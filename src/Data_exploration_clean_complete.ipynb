{
 "cells": [
  {
   "cell_type": "markdown",
   "metadata": {},
   "source": [
    "<div style=\"font-family: Arial, Helvetica, sans-serif;\">\n",
    "    <div style=\"display: flex;padding-top: 20px\">\n",
    "        <div><strong>Course:</strong> Programming for Data Science</div>\n",
    "    </div>\n",
    "    <div style=\"display: flex;padding-top: 20px\">\n",
    "        <div style=\"padding-right: 10px;\"><strong>Class:</strong></div>\n",
    "        <div></div>\n",
    "    </div>\n",
    "    <div style=\"display: flex;padding-top: 20px\">\n",
    "        <div style=\"padding-right: 10px;\"><strong>Group:</strong></div>\n",
    "    </div>\n",
    "    <div>\n",
    "        <div style=\"display: flex;padding-top: 20px\">\n",
    "            <div style=\"padding-right: 10px;\"><strong>Members:</strong></div>\n",
    "            <div></div>\n",
    "        </div>\n",
    "        <table style=\"font-size: 15px; display:flex;padding-top: 20px\">\n",
    "            <tr>\n",
    "                <th>No.</th>\n",
    "                <th>Student ID</th>\n",
    "                <th>Name</th>\n",
    "            </tr>\n",
    "            <tr>\n",
    "                <td>1</td>\n",
    "                <td> 22127008 </td>\n",
    "                <td style=\"text-align:left;\">Đặng Châu Anh</td>\n",
    "            </tr>\n",
    "            <tr>\n",
    "                <td>2</td>\n",
    "                <td>22127014</td>\n",
    "                <td style=\"text-align:left;\">Nguyễn Kim Anh</td>\n",
    "            </tr>\n",
    "            <tr>\n",
    "                <td>3</td>\n",
    "                <td> 22127170 </td>\n",
    "                <td style=\"text-align:left;\">Trần Dịu Huyền</td>\n",
    "            </tr>\n",
    "        </table>\n",
    "    </div>\n",
    "    <div style=\"font-size: 25px ;font-weight: 800; text-align: center;padding-top: 20px;\">FINAL PROJECT</div>\n",
    "    <div style=\"font-size: 20px ;font-weight: 800; text-align: center;padding-top: 20px;\">COVID - 19 ANALYSIS - DATA EXPLORATION</div>\n",
    "</div>"
   ]
  },
  {
   "cell_type": "markdown",
   "metadata": {},
   "source": [
    "# **Data Exploration**\n",
    "## **Import necessary libraries**"
   ]
  },
  {
   "cell_type": "code",
   "execution_count": 2,
   "metadata": {},
   "outputs": [],
   "source": [
    "import pandas as pd\n",
    "import numpy as np\n",
    "import matplotlib.pyplot as plt\n",
    "import seaborn as sns"
   ]
  },
  {
   "cell_type": "markdown",
   "metadata": {},
   "source": [
    "## **Load data**\n",
    "Read the data from the file `covid_19_clean_complete.csv` and display the 5 rows of the data."
   ]
  },
  {
   "cell_type": "code",
   "execution_count": 3,
   "metadata": {},
   "outputs": [
    {
     "data": {
      "text/html": [
       "<div>\n",
       "<style scoped>\n",
       "    .dataframe tbody tr th:only-of-type {\n",
       "        vertical-align: middle;\n",
       "    }\n",
       "\n",
       "    .dataframe tbody tr th {\n",
       "        vertical-align: top;\n",
       "    }\n",
       "\n",
       "    .dataframe thead th {\n",
       "        text-align: right;\n",
       "    }\n",
       "</style>\n",
       "<table border=\"1\" class=\"dataframe\">\n",
       "  <thead>\n",
       "    <tr style=\"text-align: right;\">\n",
       "      <th></th>\n",
       "      <th>Province/State</th>\n",
       "      <th>Country/Region</th>\n",
       "      <th>Lat</th>\n",
       "      <th>Long</th>\n",
       "      <th>Date</th>\n",
       "      <th>Confirmed</th>\n",
       "      <th>Deaths</th>\n",
       "      <th>Recovered</th>\n",
       "      <th>Active</th>\n",
       "      <th>WHO Region</th>\n",
       "    </tr>\n",
       "  </thead>\n",
       "  <tbody>\n",
       "    <tr>\n",
       "      <th>24174</th>\n",
       "      <td>NaN</td>\n",
       "      <td>Namibia</td>\n",
       "      <td>-22.95760</td>\n",
       "      <td>18.490400</td>\n",
       "      <td>2020-04-23</td>\n",
       "      <td>16</td>\n",
       "      <td>0</td>\n",
       "      <td>7</td>\n",
       "      <td>9</td>\n",
       "      <td>Africa</td>\n",
       "    </tr>\n",
       "    <tr>\n",
       "      <th>531</th>\n",
       "      <td>New South Wales</td>\n",
       "      <td>Australia</td>\n",
       "      <td>-33.86880</td>\n",
       "      <td>151.209300</td>\n",
       "      <td>2020-01-24</td>\n",
       "      <td>0</td>\n",
       "      <td>0</td>\n",
       "      <td>0</td>\n",
       "      <td>0</td>\n",
       "      <td>Western Pacific</td>\n",
       "    </tr>\n",
       "    <tr>\n",
       "      <th>39933</th>\n",
       "      <td>NaN</td>\n",
       "      <td>Afghanistan</td>\n",
       "      <td>33.93911</td>\n",
       "      <td>67.709953</td>\n",
       "      <td>2020-06-23</td>\n",
       "      <td>29481</td>\n",
       "      <td>618</td>\n",
       "      <td>9260</td>\n",
       "      <td>19603</td>\n",
       "      <td>Eastern Mediterranean</td>\n",
       "    </tr>\n",
       "    <tr>\n",
       "      <th>14279</th>\n",
       "      <td>NaN</td>\n",
       "      <td>Russia</td>\n",
       "      <td>61.52401</td>\n",
       "      <td>105.318756</td>\n",
       "      <td>2020-03-16</td>\n",
       "      <td>90</td>\n",
       "      <td>0</td>\n",
       "      <td>8</td>\n",
       "      <td>82</td>\n",
       "      <td>Europe</td>\n",
       "    </tr>\n",
       "    <tr>\n",
       "      <th>22166</th>\n",
       "      <td>Yukon</td>\n",
       "      <td>Canada</td>\n",
       "      <td>64.28230</td>\n",
       "      <td>-135.000000</td>\n",
       "      <td>2020-04-15</td>\n",
       "      <td>8</td>\n",
       "      <td>0</td>\n",
       "      <td>0</td>\n",
       "      <td>8</td>\n",
       "      <td>Americas</td>\n",
       "    </tr>\n",
       "  </tbody>\n",
       "</table>\n",
       "</div>"
      ],
      "text/plain": [
       "        Province/State Country/Region       Lat        Long        Date  \\\n",
       "24174              NaN        Namibia -22.95760   18.490400  2020-04-23   \n",
       "531    New South Wales      Australia -33.86880  151.209300  2020-01-24   \n",
       "39933              NaN    Afghanistan  33.93911   67.709953  2020-06-23   \n",
       "14279              NaN         Russia  61.52401  105.318756  2020-03-16   \n",
       "22166            Yukon         Canada  64.28230 -135.000000  2020-04-15   \n",
       "\n",
       "       Confirmed  Deaths  Recovered  Active             WHO Region  \n",
       "24174         16       0          7       9                 Africa  \n",
       "531            0       0          0       0        Western Pacific  \n",
       "39933      29481     618       9260   19603  Eastern Mediterranean  \n",
       "14279         90       0          8      82                 Europe  \n",
       "22166          8       0          0       8               Americas  "
      ]
     },
     "execution_count": 3,
     "metadata": {},
     "output_type": "execute_result"
    }
   ],
   "source": [
    "clean_complete = pd.read_csv(r\"./data/covid_19_clean_complete.csv\")\n",
    "clean_complete.sample(5)"
   ]
  },
  {
   "cell_type": "markdown",
   "metadata": {},
   "source": [
    "## **Number of rows and columns**"
   ]
  },
  {
   "cell_type": "markdown",
   "metadata": {},
   "source": [
    "#### Number of rows and columns\n",
    "Number of rows and columns in the dataset `covid_19_clean_complete` will stored in the variables `clean_complete_rows` and `clean_complete_cols` respectively."
   ]
  },
  {
   "cell_type": "code",
   "execution_count": null,
   "metadata": {},
   "outputs": [
    {
     "name": "stdout",
     "output_type": "stream",
     "text": [
      "Number of rows: 49068\n",
      "Number of columns: 10\n"
     ]
    }
   ],
   "source": [
    "clean_complete_rows, clean_complete_cols = clean_complete.shape\n",
    "print(\"Number of rows:\", clean_complete_rows)\n",
    "print(\"Number of columns:\", clean_complete_cols)"
   ]
  },
  {
   "cell_type": "markdown",
   "metadata": {},
   "source": [
    "#### Column details\n",
    "[Explain the meaning of each column in the dataset `covid_19_clean_complete`]"
   ]
  },
  {
   "cell_type": "code",
   "execution_count": null,
   "metadata": {},
   "outputs": [
    {
     "data": {
      "text/plain": [
       "Index(['Province/State', 'Country/Region', 'Lat', 'Long', 'Date', 'Confirmed',\n",
       "       'Deaths', 'Recovered', 'Active', 'WHO Region'],\n",
       "      dtype='object')"
      ]
     },
     "metadata": {},
     "output_type": "display_data"
    }
   ],
   "source": [
    "clean_complete.columns"
   ]
  },
  {
   "cell_type": "code",
   "execution_count": null,
   "metadata": {},
   "outputs": [
    {
     "name": "stdout",
     "output_type": "stream",
     "text": [
      "<class 'pandas.core.frame.DataFrame'>\n",
      "RangeIndex: 49068 entries, 0 to 49067\n",
      "Data columns (total 10 columns):\n",
      " #   Column          Non-Null Count  Dtype  \n",
      "---  ------          --------------  -----  \n",
      " 0   Province/State  14664 non-null  object \n",
      " 1   Country/Region  49068 non-null  object \n",
      " 2   Lat             49068 non-null  float64\n",
      " 3   Long            49068 non-null  float64\n",
      " 4   Date            49068 non-null  object \n",
      " 5   Confirmed       49068 non-null  int64  \n",
      " 6   Deaths          49068 non-null  int64  \n",
      " 7   Recovered       49068 non-null  int64  \n",
      " 8   Active          49068 non-null  int64  \n",
      " 9   WHO Region      49068 non-null  object \n",
      "dtypes: float64(2), int64(4), object(4)\n",
      "memory usage: 3.7+ MB\n"
     ]
    }
   ],
   "source": [
    "clean_complete.info()"
   ]
  },
  {
   "cell_type": "markdown",
   "metadata": {},
   "source": [
    "There is a date column in the dataset. We will convert it to a datetime object. After that, we will find out the duration of the data."
   ]
  },
  {
   "cell_type": "code",
   "execution_count": null,
   "metadata": {},
   "outputs": [
    {
     "name": "stdout",
     "output_type": "stream",
     "text": [
      "<class 'pandas.core.frame.DataFrame'>\n",
      "RangeIndex: 49068 entries, 0 to 49067\n",
      "Data columns (total 10 columns):\n",
      " #   Column          Non-Null Count  Dtype         \n",
      "---  ------          --------------  -----         \n",
      " 0   Province/State  14664 non-null  object        \n",
      " 1   Country/Region  49068 non-null  object        \n",
      " 2   Lat             49068 non-null  float64       \n",
      " 3   Long            49068 non-null  float64       \n",
      " 4   Date            49068 non-null  datetime64[ns]\n",
      " 5   Confirmed       49068 non-null  int64         \n",
      " 6   Deaths          49068 non-null  int64         \n",
      " 7   Recovered       49068 non-null  int64         \n",
      " 8   Active          49068 non-null  int64         \n",
      " 9   WHO Region      49068 non-null  object        \n",
      "dtypes: datetime64[ns](1), float64(2), int64(4), object(3)\n",
      "memory usage: 3.7+ MB\n"
     ]
    }
   ],
   "source": [
    "clean_complete['Date'] = pd.to_datetime(clean_complete['Date'])\n",
    "clean_complete.info()"
   ]
  },
  {
   "cell_type": "markdown",
   "metadata": {},
   "source": [
    "Besides, for categorical columns like `WHO Region`, we examine the number of unique values. This helps in understanding the diversity of entries."
   ]
  },
  {
   "cell_type": "code",
   "execution_count": 5,
   "metadata": {},
   "outputs": [
    {
     "name": "stdout",
     "output_type": "stream",
     "text": [
      "Unique values per categorical column:\n",
      "WHO Region\n",
      "Europe                   15040\n",
      "Western Pacific          10340\n",
      "Africa                    9024\n",
      "Americas                  8648\n",
      "Eastern Mediterranean     4136\n",
      "South-East Asia           1880\n",
      "Name: count, dtype: int64\n"
     ]
    }
   ],
   "source": [
    "print(\"Unique values per categorical column:\")\n",
    "print(clean_complete['WHO Region'].value_counts())"
   ]
  },
  {
   "cell_type": "markdown",
   "metadata": {},
   "source": [
    "## **Handling missing values**\n",
    "Identifying any missing values is essential for data quality assurance. This step allows us to handle incomplete data or remove unnecessary duplicates, ensuring a clean dataset.\n",
    "- First, we will check how many unique values in each column of the dataset `covid_19_clean_complete` by using `isna()` and `sum()` function."
   ]
  },
  {
   "cell_type": "code",
   "execution_count": null,
   "metadata": {},
   "outputs": [
    {
     "data": {
      "text/plain": [
       "Province/State    34404\n",
       "Country/Region        0\n",
       "Lat                   0\n",
       "Long                  0\n",
       "Date                  0\n",
       "Confirmed             0\n",
       "Deaths                0\n",
       "Recovered             0\n",
       "Active                0\n",
       "WHO Region            0\n",
       "dtype: int64"
      ]
     },
     "metadata": {},
     "output_type": "display_data"
    }
   ],
   "source": [
    "clean_complete.isna().sum()"
   ]
  },
  {
   "cell_type": "markdown",
   "metadata": {},
   "source": [
    "Thus, there is no duplicated row in the dataset `country_wise_latest`."
   ]
  },
  {
   "cell_type": "markdown",
   "metadata": {},
   "source": [
    "## **Handling duplicated values in the dataset**\n",
    "To identify any duplicate records by calculating the total number of duplicated rows in the `covid_19_clean_complete`"
   ]
  },
  {
   "cell_type": "code",
   "execution_count": null,
   "metadata": {},
   "outputs": [
    {
     "data": {
      "text/plain": [
       "np.int64(0)"
      ]
     },
     "metadata": {},
     "output_type": "display_data"
    }
   ],
   "source": [
    "clean_complete.duplicated().sum()"
   ]
  },
  {
   "cell_type": "markdown",
   "metadata": {},
   "source": [
    "Thus, there is no duplicated row in the dataset `covid_19_clean_complete`."
   ]
  },
  {
   "cell_type": "markdown",
   "metadata": {},
   "source": [
    "## **Exploratory Data Analysis (EDA)**\n",
    "In this section, we perform a more in-depth analysis of the dataset to uncover patterns, distributions, and relationships between variables.\n",
    "\n",
    "First, we view summary statistics for all numeric columns."
   ]
  },
  {
   "cell_type": "code",
   "execution_count": 6,
   "metadata": {},
   "outputs": [
    {
     "data": {
      "text/html": [
       "<div>\n",
       "<style scoped>\n",
       "    .dataframe tbody tr th:only-of-type {\n",
       "        vertical-align: middle;\n",
       "    }\n",
       "\n",
       "    .dataframe tbody tr th {\n",
       "        vertical-align: top;\n",
       "    }\n",
       "\n",
       "    .dataframe thead th {\n",
       "        text-align: right;\n",
       "    }\n",
       "</style>\n",
       "<table border=\"1\" class=\"dataframe\">\n",
       "  <thead>\n",
       "    <tr style=\"text-align: right;\">\n",
       "      <th></th>\n",
       "      <th>Lat</th>\n",
       "      <th>Long</th>\n",
       "      <th>Date</th>\n",
       "      <th>Confirmed</th>\n",
       "      <th>Deaths</th>\n",
       "      <th>Recovered</th>\n",
       "      <th>Active</th>\n",
       "    </tr>\n",
       "  </thead>\n",
       "  <tbody>\n",
       "    <tr>\n",
       "      <th>count</th>\n",
       "      <td>49068.000000</td>\n",
       "      <td>49068.000000</td>\n",
       "      <td>49068</td>\n",
       "      <td>4.906800e+04</td>\n",
       "      <td>49068.000000</td>\n",
       "      <td>4.906800e+04</td>\n",
       "      <td>4.906800e+04</td>\n",
       "    </tr>\n",
       "    <tr>\n",
       "      <th>mean</th>\n",
       "      <td>21.433730</td>\n",
       "      <td>23.528236</td>\n",
       "      <td>2020-04-24 12:00:00</td>\n",
       "      <td>1.688490e+04</td>\n",
       "      <td>884.179160</td>\n",
       "      <td>7.915713e+03</td>\n",
       "      <td>8.085012e+03</td>\n",
       "    </tr>\n",
       "    <tr>\n",
       "      <th>min</th>\n",
       "      <td>-51.796300</td>\n",
       "      <td>-135.000000</td>\n",
       "      <td>2020-01-22 00:00:00</td>\n",
       "      <td>0.000000e+00</td>\n",
       "      <td>0.000000</td>\n",
       "      <td>0.000000e+00</td>\n",
       "      <td>-1.400000e+01</td>\n",
       "    </tr>\n",
       "    <tr>\n",
       "      <th>25%</th>\n",
       "      <td>7.873054</td>\n",
       "      <td>-15.310100</td>\n",
       "      <td>2020-03-08 18:00:00</td>\n",
       "      <td>4.000000e+00</td>\n",
       "      <td>0.000000</td>\n",
       "      <td>0.000000e+00</td>\n",
       "      <td>0.000000e+00</td>\n",
       "    </tr>\n",
       "    <tr>\n",
       "      <th>50%</th>\n",
       "      <td>23.634500</td>\n",
       "      <td>21.745300</td>\n",
       "      <td>2020-04-24 12:00:00</td>\n",
       "      <td>1.680000e+02</td>\n",
       "      <td>2.000000</td>\n",
       "      <td>2.900000e+01</td>\n",
       "      <td>2.600000e+01</td>\n",
       "    </tr>\n",
       "    <tr>\n",
       "      <th>75%</th>\n",
       "      <td>41.204380</td>\n",
       "      <td>80.771797</td>\n",
       "      <td>2020-06-10 06:00:00</td>\n",
       "      <td>1.518250e+03</td>\n",
       "      <td>30.000000</td>\n",
       "      <td>6.660000e+02</td>\n",
       "      <td>6.060000e+02</td>\n",
       "    </tr>\n",
       "    <tr>\n",
       "      <th>max</th>\n",
       "      <td>71.706900</td>\n",
       "      <td>178.065000</td>\n",
       "      <td>2020-07-27 00:00:00</td>\n",
       "      <td>4.290259e+06</td>\n",
       "      <td>148011.000000</td>\n",
       "      <td>1.846641e+06</td>\n",
       "      <td>2.816444e+06</td>\n",
       "    </tr>\n",
       "    <tr>\n",
       "      <th>std</th>\n",
       "      <td>24.950320</td>\n",
       "      <td>70.442740</td>\n",
       "      <td>NaN</td>\n",
       "      <td>1.273002e+05</td>\n",
       "      <td>6313.584411</td>\n",
       "      <td>5.480092e+04</td>\n",
       "      <td>7.625890e+04</td>\n",
       "    </tr>\n",
       "  </tbody>\n",
       "</table>\n",
       "</div>"
      ],
      "text/plain": [
       "                Lat          Long                 Date     Confirmed  \\\n",
       "count  49068.000000  49068.000000                49068  4.906800e+04   \n",
       "mean      21.433730     23.528236  2020-04-24 12:00:00  1.688490e+04   \n",
       "min      -51.796300   -135.000000  2020-01-22 00:00:00  0.000000e+00   \n",
       "25%        7.873054    -15.310100  2020-03-08 18:00:00  4.000000e+00   \n",
       "50%       23.634500     21.745300  2020-04-24 12:00:00  1.680000e+02   \n",
       "75%       41.204380     80.771797  2020-06-10 06:00:00  1.518250e+03   \n",
       "max       71.706900    178.065000  2020-07-27 00:00:00  4.290259e+06   \n",
       "std       24.950320     70.442740                  NaN  1.273002e+05   \n",
       "\n",
       "              Deaths     Recovered        Active  \n",
       "count   49068.000000  4.906800e+04  4.906800e+04  \n",
       "mean      884.179160  7.915713e+03  8.085012e+03  \n",
       "min         0.000000  0.000000e+00 -1.400000e+01  \n",
       "25%         0.000000  0.000000e+00  0.000000e+00  \n",
       "50%         2.000000  2.900000e+01  2.600000e+01  \n",
       "75%        30.000000  6.660000e+02  6.060000e+02  \n",
       "max    148011.000000  1.846641e+06  2.816444e+06  \n",
       "std      6313.584411  5.480092e+04  7.625890e+04  "
      ]
     },
     "execution_count": 6,
     "metadata": {},
     "output_type": "execute_result"
    }
   ],
   "source": [
    "clean_complete.describe()"
   ]
  }
 ],
 "metadata": {
  "kernelspec": {
   "display_name": "min_ds-env",
   "language": "python",
   "name": "python3"
  },
  "language_info": {
   "codemirror_mode": {
    "name": "ipython",
    "version": 3
   },
   "file_extension": ".py",
   "mimetype": "text/x-python",
   "name": "python",
   "nbconvert_exporter": "python",
   "pygments_lexer": "ipython3",
   "version": "3.12.7"
  }
 },
 "nbformat": 4,
 "nbformat_minor": 2
}

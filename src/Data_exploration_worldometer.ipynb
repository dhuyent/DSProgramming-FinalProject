{
 "cells": [
  {
   "cell_type": "markdown",
   "metadata": {},
   "source": [
    "<div style=\"font-family: Arial, Helvetica, sans-serif;\">\n",
    "    <div style=\"display: flex;padding-top: 20px\">\n",
    "        <div><strong>Course:</strong> Programming for Data Science</div>\n",
    "    </div>\n",
    "    <div style=\"display: flex;padding-top: 20px\">\n",
    "        <div style=\"padding-right: 10px;\"><strong>Class:</strong> 22KHDL</div>\n",
    "        <div></div>\n",
    "    </div>\n",
    "    <div style=\"display: flex;padding-top: 20px\">\n",
    "        <div style=\"padding-right: 10px;\"><strong>Group:</strong> 5</div>\n",
    "    </div>\n",
    "    <div>\n",
    "        <div style=\"display: flex;padding-top: 20px\">\n",
    "            <div style=\"padding-right: 10px;\"><strong>Members:</strong></div>\n",
    "            <div></div>\n",
    "        </div>\n",
    "        <table style=\"font-size: 15px; display:flex;padding-top: 20px\">\n",
    "            <tr>\n",
    "                <th>No.</th>\n",
    "                <th>Student ID</th>\n",
    "                <th>Name</th>\n",
    "            </tr>\n",
    "            <tr>\n",
    "                <td>1</td>\n",
    "                <td> 22127008 </td>\n",
    "                <td style=\"text-align:left;\">Đặng Châu Anh</td>\n",
    "            </tr>\n",
    "            <tr>\n",
    "                <td>2</td>\n",
    "                <td>22127014</td>\n",
    "                <td style=\"text-align:left;\">Nguyễn Kim Anh</td>\n",
    "            </tr>\n",
    "            <tr>\n",
    "                <td>3</td>\n",
    "                <td> 22127170 </td>\n",
    "                <td style=\"text-align:left;\">Trần Dịu Huyền</td>\n",
    "            </tr>\n",
    "        </table>\n",
    "    </div>\n",
    "    <div style=\"font-size: 25px ;font-weight: 800; text-align: center;padding-top: 20px;\">FINAL PROJECT</div>\n",
    "    <div style=\"font-size: 20px ;font-weight: 800; text-align: center;padding-top: 20px;\">COVID - 19 ANALYSIS - DATA EXPLORATION</div>\n",
    "    <div style=\"font-size: 20px ;font-weight: 800; text-align: center;padding-top: 20px;\">WORLDOMETER_DATA</div>\n",
    "</div>"
   ]
  },
  {
   "cell_type": "markdown",
   "metadata": {},
   "source": [
    "# **Table of Contents**\n",
    "\n",
    "1. [**Import necessary packages**](#1-import-necessary-packages)\n",
    "\n",
    "2. [**Load data**](#2-load-data)\n",
    "\n",
    "3. [**Number of rows and columns**](#3-number-of-rows-and-columns)\n",
    "\n",
    "4. [**Meaning of each row**](#4-meaning-of-each-row)\n",
    "\n",
    "5. [**Duplicated rows**](#duplicated-rows)\n",
    "\n",
    "6. [**Meaning of each column**](#meaning-of-each-column)\n",
    "\n",
    "7. [**Data type of each column**](#data-type-of-each-column)\n",
    "\n",
    "8. [**Distribution of numerical columns**](#distribution-of-numerical-columns)\n",
    "   - [Percentage of missing values](#percentage-of-missing-values)\n",
    "   - [Minimum and maximum values](#minimum-and-maximum-values)\n",
    "\n",
    "9. [**Distribution of categorical columns**](#distribution-of-categorical-columns)\n",
    "   - [Percentage of missing values](#percentage-of-missing-values)\n",
    "   - [Number of different values](#number-of-different-values)\n",
    "   - [Abnormal values](#abnormal-values)\n",
    "    \n",
    "10. [**Save cleaned data**](#save-the-cleaned-data)\n",
    "    "
   ]
  },
  {
   "cell_type": "markdown",
   "metadata": {},
   "source": [
    "# **Data Exploration**"
   ]
  },
  {
   "cell_type": "markdown",
   "metadata": {},
   "source": [
    "## **1. Import necessary packages**"
   ]
  },
  {
   "cell_type": "code",
   "execution_count": 1,
   "metadata": {},
   "outputs": [],
   "source": [
    "import pandas as pd\n",
    "import numpy as np\n",
    "import matplotlib.pyplot as plt\n",
    "import seaborn as sns"
   ]
  },
  {
   "cell_type": "markdown",
   "metadata": {},
   "source": [
    "## **2. Load data**\n",
    "Read the data from the file `worldometer_data.csv` and display the first 5 rows of the data."
   ]
  },
  {
   "cell_type": "code",
   "execution_count": 2,
   "metadata": {},
   "outputs": [
    {
     "data": {
      "text/html": [
       "<div>\n",
       "<style scoped>\n",
       "    .dataframe tbody tr th:only-of-type {\n",
       "        vertical-align: middle;\n",
       "    }\n",
       "\n",
       "    .dataframe tbody tr th {\n",
       "        vertical-align: top;\n",
       "    }\n",
       "\n",
       "    .dataframe thead th {\n",
       "        text-align: right;\n",
       "    }\n",
       "</style>\n",
       "<table border=\"1\" class=\"dataframe\">\n",
       "  <thead>\n",
       "    <tr style=\"text-align: right;\">\n",
       "      <th></th>\n",
       "      <th>Country/Region</th>\n",
       "      <th>Continent</th>\n",
       "      <th>Population</th>\n",
       "      <th>TotalCases</th>\n",
       "      <th>NewCases</th>\n",
       "      <th>TotalDeaths</th>\n",
       "      <th>NewDeaths</th>\n",
       "      <th>TotalRecovered</th>\n",
       "      <th>NewRecovered</th>\n",
       "      <th>ActiveCases</th>\n",
       "      <th>Serious,Critical</th>\n",
       "      <th>Tot Cases/1M pop</th>\n",
       "      <th>Deaths/1M pop</th>\n",
       "      <th>TotalTests</th>\n",
       "      <th>Tests/1M pop</th>\n",
       "      <th>WHO Region</th>\n",
       "    </tr>\n",
       "  </thead>\n",
       "  <tbody>\n",
       "    <tr>\n",
       "      <th>0</th>\n",
       "      <td>USA</td>\n",
       "      <td>North America</td>\n",
       "      <td>3.311981e+08</td>\n",
       "      <td>5032179</td>\n",
       "      <td>NaN</td>\n",
       "      <td>162804.0</td>\n",
       "      <td>NaN</td>\n",
       "      <td>2576668.0</td>\n",
       "      <td>NaN</td>\n",
       "      <td>2292707.0</td>\n",
       "      <td>18296.0</td>\n",
       "      <td>15194.0</td>\n",
       "      <td>492.0</td>\n",
       "      <td>63139605.0</td>\n",
       "      <td>190640.0</td>\n",
       "      <td>Americas</td>\n",
       "    </tr>\n",
       "    <tr>\n",
       "      <th>1</th>\n",
       "      <td>Brazil</td>\n",
       "      <td>South America</td>\n",
       "      <td>2.127107e+08</td>\n",
       "      <td>2917562</td>\n",
       "      <td>NaN</td>\n",
       "      <td>98644.0</td>\n",
       "      <td>NaN</td>\n",
       "      <td>2047660.0</td>\n",
       "      <td>NaN</td>\n",
       "      <td>771258.0</td>\n",
       "      <td>8318.0</td>\n",
       "      <td>13716.0</td>\n",
       "      <td>464.0</td>\n",
       "      <td>13206188.0</td>\n",
       "      <td>62085.0</td>\n",
       "      <td>Americas</td>\n",
       "    </tr>\n",
       "    <tr>\n",
       "      <th>2</th>\n",
       "      <td>India</td>\n",
       "      <td>Asia</td>\n",
       "      <td>1.381345e+09</td>\n",
       "      <td>2025409</td>\n",
       "      <td>NaN</td>\n",
       "      <td>41638.0</td>\n",
       "      <td>NaN</td>\n",
       "      <td>1377384.0</td>\n",
       "      <td>NaN</td>\n",
       "      <td>606387.0</td>\n",
       "      <td>8944.0</td>\n",
       "      <td>1466.0</td>\n",
       "      <td>30.0</td>\n",
       "      <td>22149351.0</td>\n",
       "      <td>16035.0</td>\n",
       "      <td>South-EastAsia</td>\n",
       "    </tr>\n",
       "    <tr>\n",
       "      <th>3</th>\n",
       "      <td>Russia</td>\n",
       "      <td>Europe</td>\n",
       "      <td>1.459409e+08</td>\n",
       "      <td>871894</td>\n",
       "      <td>NaN</td>\n",
       "      <td>14606.0</td>\n",
       "      <td>NaN</td>\n",
       "      <td>676357.0</td>\n",
       "      <td>NaN</td>\n",
       "      <td>180931.0</td>\n",
       "      <td>2300.0</td>\n",
       "      <td>5974.0</td>\n",
       "      <td>100.0</td>\n",
       "      <td>29716907.0</td>\n",
       "      <td>203623.0</td>\n",
       "      <td>Europe</td>\n",
       "    </tr>\n",
       "    <tr>\n",
       "      <th>4</th>\n",
       "      <td>South Africa</td>\n",
       "      <td>Africa</td>\n",
       "      <td>5.938157e+07</td>\n",
       "      <td>538184</td>\n",
       "      <td>NaN</td>\n",
       "      <td>9604.0</td>\n",
       "      <td>NaN</td>\n",
       "      <td>387316.0</td>\n",
       "      <td>NaN</td>\n",
       "      <td>141264.0</td>\n",
       "      <td>539.0</td>\n",
       "      <td>9063.0</td>\n",
       "      <td>162.0</td>\n",
       "      <td>3149807.0</td>\n",
       "      <td>53044.0</td>\n",
       "      <td>Africa</td>\n",
       "    </tr>\n",
       "  </tbody>\n",
       "</table>\n",
       "</div>"
      ],
      "text/plain": [
       "  Country/Region      Continent    Population  TotalCases  NewCases  \\\n",
       "0            USA  North America  3.311981e+08     5032179       NaN   \n",
       "1         Brazil  South America  2.127107e+08     2917562       NaN   \n",
       "2          India           Asia  1.381345e+09     2025409       NaN   \n",
       "3         Russia         Europe  1.459409e+08      871894       NaN   \n",
       "4   South Africa         Africa  5.938157e+07      538184       NaN   \n",
       "\n",
       "   TotalDeaths  NewDeaths  TotalRecovered  NewRecovered  ActiveCases  \\\n",
       "0     162804.0        NaN       2576668.0           NaN    2292707.0   \n",
       "1      98644.0        NaN       2047660.0           NaN     771258.0   \n",
       "2      41638.0        NaN       1377384.0           NaN     606387.0   \n",
       "3      14606.0        NaN        676357.0           NaN     180931.0   \n",
       "4       9604.0        NaN        387316.0           NaN     141264.0   \n",
       "\n",
       "   Serious,Critical  Tot Cases/1M pop  Deaths/1M pop  TotalTests  \\\n",
       "0           18296.0           15194.0          492.0  63139605.0   \n",
       "1            8318.0           13716.0          464.0  13206188.0   \n",
       "2            8944.0            1466.0           30.0  22149351.0   \n",
       "3            2300.0            5974.0          100.0  29716907.0   \n",
       "4             539.0            9063.0          162.0   3149807.0   \n",
       "\n",
       "   Tests/1M pop      WHO Region  \n",
       "0      190640.0        Americas  \n",
       "1       62085.0        Americas  \n",
       "2       16035.0  South-EastAsia  \n",
       "3      203623.0          Europe  \n",
       "4       53044.0          Africa  "
      ]
     },
     "execution_count": 2,
     "metadata": {},
     "output_type": "execute_result"
    }
   ],
   "source": [
    "# worldometer_data.csv\n",
    "worldometer_data = pd.read_csv(r\"./data/worldometer_data.csv\")\n",
    "worldometer_data.head()"
   ]
  },
  {
   "cell_type": "markdown",
   "metadata": {},
   "source": [
    "Every single row in this dataset represent the number of cases in a country that get updated by www.worldometers.info"
   ]
  },
  {
   "cell_type": "markdown",
   "metadata": {},
   "source": [
    "## **3. Number of rows and columns**"
   ]
  },
  {
   "cell_type": "markdown",
   "metadata": {},
   "source": [
    "Number of rows and columns in the `worldometer_data` dataset will store in the variables `n_rows` and `n_cols` respectively."
   ]
  },
  {
   "cell_type": "code",
   "execution_count": 3,
   "metadata": {},
   "outputs": [
    {
     "name": "stdout",
     "output_type": "stream",
     "text": [
      "Number of rows: 209\n",
      "Number of columns: 16\n"
     ]
    }
   ],
   "source": [
    "n_rows, n_cols = worldometer_data.shape\n",
    "print(f\"Number of rows: {n_rows}\")\n",
    "print(f\"Number of columns: {n_cols}\")"
   ]
  },
  {
   "cell_type": "markdown",
   "metadata": {},
   "source": [
    "## **4. Meaning of each row**"
   ]
  },
  {
   "cell_type": "markdown",
   "metadata": {},
   "source": [
    "Each row in the dataset represents information about a **specific country or region** in relation to the COVID-19 pandemic."
   ]
  },
  {
   "cell_type": "markdown",
   "metadata": {},
   "source": [
    "## **5. Duplicated rows**"
   ]
  },
  {
   "cell_type": "markdown",
   "metadata": {},
   "source": [
    "Find out the number of duplicated values in the dataset `worldometer_data` by using `duplicated()` and `sum()` from `pandas` library."
   ]
  },
  {
   "cell_type": "code",
   "execution_count": 4,
   "metadata": {},
   "outputs": [
    {
     "data": {
      "text/plain": [
       "np.int64(0)"
      ]
     },
     "execution_count": 4,
     "metadata": {},
     "output_type": "execute_result"
    }
   ],
   "source": [
    "worldometer_data.duplicated().sum()"
   ]
  },
  {
   "cell_type": "markdown",
   "metadata": {},
   "source": [
    "Thus, there is no duplicated row in the dataset `worldometer_data`."
   ]
  },
  {
   "cell_type": "markdown",
   "metadata": {},
   "source": [
    "## **6. Meaning of each column**"
   ]
  },
  {
   "cell_type": "code",
   "execution_count": 5,
   "metadata": {},
   "outputs": [
    {
     "data": {
      "text/plain": [
       "Index(['Country/Region', 'Continent', 'Population', 'TotalCases', 'NewCases',\n",
       "       'TotalDeaths', 'NewDeaths', 'TotalRecovered', 'NewRecovered',\n",
       "       'ActiveCases', 'Serious,Critical', 'Tot Cases/1M pop', 'Deaths/1M pop',\n",
       "       'TotalTests', 'Tests/1M pop', 'WHO Region'],\n",
       "      dtype='object')"
      ]
     },
     "execution_count": 5,
     "metadata": {},
     "output_type": "execute_result"
    }
   ],
   "source": [
    "worldometer_data.columns"
   ]
  },
  {
   "cell_type": "markdown",
   "metadata": {},
   "source": [
    "<table>\n",
    "    <tr>\n",
    "        <th>Attribute</th>\n",
    "        <th>Description</th>\n",
    "    </tr>\n",
    "    <tr>\n",
    "        <td>Country/Region</td>\n",
    "        <td>Name of the country or region.</td>\n",
    "    </tr>\n",
    "    <tr>\n",
    "        <td>Continent</td>\n",
    "        <td>Continent of the country or region.</td>\n",
    "    </tr>\n",
    "    <tr>\n",
    "        <td>Population</td>\n",
    "        <td>Population of the country or region.</td>\n",
    "    </tr>\n",
    "    <tr>\n",
    "        <td>TotalCases</td>\n",
    "        <td>Total number of cases COVID-19 in the country or region.</td>\n",
    "    </tr>\n",
    "    <tr>\n",
    "        <td>NewCases</td>\n",
    "        <td>New cases of COVID-19 in the country or region updated in the latest day.</td>\n",
    "    </tr>\n",
    "    <tr>\n",
    "        <td>TotalDeaths</td>\n",
    "        <td>Total number of deaths due to COVID-19 in the country or region.</td>\n",
    "    </tr>\n",
    "    <tr>\n",
    "        <td>NewDeaths</td>\n",
    "        <td>New deaths due to COVID-19 in the country or region updated in the latest day.</td>\n",
    "    </tr>\n",
    "    <tr>\n",
    "        <td>TotalRecovered</td>\n",
    "        <td>Total number of recovered cases of COVID-19 in the country or region.</td>\n",
    "    </tr>\n",
    "    <tr>\n",
    "        <td>NewRecovered</td>\n",
    "        <td>New recovered cases of COVID-19 in the country or region updated in the latest day.</td>\n",
    "    </tr>\n",
    "    <tr>\n",
    "        <td>ActiveCases</td>\n",
    "        <td>Total number of active cases of COVID-19 in the country or region.</td>\n",
    "    </tr>\n",
    "    <tr>\n",
    "        <td>Serious,Critical</td>\n",
    "        <td>Total number of serious cases of COVID-19 in the country or region.</td>\n",
    "    </tr>\n",
    "    <tr>\n",
    "        <td>Tot Cases/1M pop</td>\n",
    "        <td>Total number of cases of COVID-19 per 1 million population in the country or region.</td>\n",
    "    </tr>\n",
    "    <tr>\n",
    "        <td>Deaths/1M pop</td>\n",
    "        <td>Total number of deaths due to COVID-19 per 1 million population in the country or region.</td>\n",
    "    </tr>\n",
    "    <tr>\n",
    "        <td>TotalTests</td>\n",
    "        <td>Total number of tests performed in the country or region.</td>\n",
    "    </tr>\n",
    "    <tr>\n",
    "        <td>Tests/1M pop</td>\n",
    "        <td>Total number of tests performed per 1 million population in the country or region.</td>\n",
    "    </tr>\n",
    "</table>"
   ]
  },
  {
   "cell_type": "markdown",
   "metadata": {},
   "source": [
    "## **7. Data type of each column**\n",
    "\n",
    "Using `info()` function to display the data types of each column in the dataset `worldometer_data`. Reviewing the data type of each column to ensure they are **appropriate** (e.g., numerical columns are in integer/float format, categorical columns are in string/object format)."
   ]
  },
  {
   "cell_type": "code",
   "execution_count": 6,
   "metadata": {},
   "outputs": [
    {
     "name": "stdout",
     "output_type": "stream",
     "text": [
      "<class 'pandas.core.frame.DataFrame'>\n",
      "RangeIndex: 209 entries, 0 to 208\n",
      "Data columns (total 16 columns):\n",
      " #   Column            Non-Null Count  Dtype  \n",
      "---  ------            --------------  -----  \n",
      " 0   Country/Region    209 non-null    object \n",
      " 1   Continent         208 non-null    object \n",
      " 2   Population        208 non-null    float64\n",
      " 3   TotalCases        209 non-null    int64  \n",
      " 4   NewCases          4 non-null      float64\n",
      " 5   TotalDeaths       188 non-null    float64\n",
      " 6   NewDeaths         3 non-null      float64\n",
      " 7   TotalRecovered    205 non-null    float64\n",
      " 8   NewRecovered      3 non-null      float64\n",
      " 9   ActiveCases       205 non-null    float64\n",
      " 10  Serious,Critical  122 non-null    float64\n",
      " 11  Tot Cases/1M pop  208 non-null    float64\n",
      " 12  Deaths/1M pop     187 non-null    float64\n",
      " 13  TotalTests        191 non-null    float64\n",
      " 14  Tests/1M pop      191 non-null    float64\n",
      " 15  WHO Region        184 non-null    object \n",
      "dtypes: float64(12), int64(1), object(3)\n",
      "memory usage: 26.3+ KB\n"
     ]
    }
   ],
   "source": [
    "worldometer_data.info()"
   ]
  },
  {
   "cell_type": "markdown",
   "metadata": {},
   "source": [
    "As we can see, the data types of each column in `worldometer_data` appear to be correct, so no changes are needed. "
   ]
  },
  {
   "cell_type": "markdown",
   "metadata": {},
   "source": [
    "## **8. Distribution of numerical columns**"
   ]
  },
  {
   "cell_type": "markdown",
   "metadata": {},
   "source": [
    "Before analyzing the distribution, we must first check for any missing values in the dataset."
   ]
  },
  {
   "cell_type": "markdown",
   "metadata": {},
   "source": [
    "### Percentage of missing values\n",
    "\n",
    "- First, we will check the percentage of missing values in each column of the dataset."
   ]
  },
  {
   "cell_type": "code",
   "execution_count": 7,
   "metadata": {},
   "outputs": [
    {
     "name": "stdout",
     "output_type": "stream",
     "text": [
      "Population                     type <class 'numpy.float64'>        0.48%\n",
      "TotalCases                     type <class 'numpy.int64'>          0.00%\n",
      "NewCases                       type <class 'numpy.float64'>        98.09%\n",
      "TotalDeaths                    type <class 'numpy.float64'>        10.05%\n",
      "NewDeaths                      type <class 'numpy.float64'>        98.56%\n",
      "TotalRecovered                 type <class 'numpy.float64'>        1.91%\n",
      "NewRecovered                   type <class 'numpy.float64'>        98.56%\n",
      "ActiveCases                    type <class 'numpy.float64'>        1.91%\n",
      "Serious,Critical               type <class 'numpy.float64'>        41.63%\n",
      "Tot Cases/1M pop               type <class 'numpy.float64'>        0.48%\n",
      "Deaths/1M pop                  type <class 'numpy.float64'>        10.53%\n",
      "TotalTests                     type <class 'numpy.float64'>        8.61%\n",
      "Tests/1M pop                   type <class 'numpy.float64'>        8.61%\n"
     ]
    }
   ],
   "source": [
    "def missing_percentage_for_numerical(data):\n",
    "    numerical_columns = worldometer_data.select_dtypes(include=[np.number]).columns\n",
    "    for column in numerical_columns:\n",
    "        missing_values = data[column].isna().sum()\n",
    "        print(f\"{column:<30} type {str(type(data[column][0])):<30} {missing_values / len(data) * 100:.2f}%\")\n",
    "\n",
    "missing_percentage_for_numerical(worldometer_data)"
   ]
  },
  {
   "cell_type": "markdown",
   "metadata": {},
   "source": [
    "As we can see, the columns `NewCases`, `NewDeaths`, `NewRecovered` contain a significant amount of missing values (over 50%). Therefore, we will drop these columns from the dataset."
   ]
  },
  {
   "cell_type": "code",
   "execution_count": 8,
   "metadata": {},
   "outputs": [
    {
     "data": {
      "text/html": [
       "<div>\n",
       "<style scoped>\n",
       "    .dataframe tbody tr th:only-of-type {\n",
       "        vertical-align: middle;\n",
       "    }\n",
       "\n",
       "    .dataframe tbody tr th {\n",
       "        vertical-align: top;\n",
       "    }\n",
       "\n",
       "    .dataframe thead th {\n",
       "        text-align: right;\n",
       "    }\n",
       "</style>\n",
       "<table border=\"1\" class=\"dataframe\">\n",
       "  <thead>\n",
       "    <tr style=\"text-align: right;\">\n",
       "      <th></th>\n",
       "      <th>Country/Region</th>\n",
       "      <th>Continent</th>\n",
       "      <th>Population</th>\n",
       "      <th>TotalCases</th>\n",
       "      <th>TotalDeaths</th>\n",
       "      <th>TotalRecovered</th>\n",
       "      <th>ActiveCases</th>\n",
       "      <th>Serious,Critical</th>\n",
       "      <th>Tot Cases/1M pop</th>\n",
       "      <th>Deaths/1M pop</th>\n",
       "      <th>TotalTests</th>\n",
       "      <th>Tests/1M pop</th>\n",
       "      <th>WHO Region</th>\n",
       "    </tr>\n",
       "  </thead>\n",
       "  <tbody>\n",
       "    <tr>\n",
       "      <th>0</th>\n",
       "      <td>USA</td>\n",
       "      <td>North America</td>\n",
       "      <td>3.311981e+08</td>\n",
       "      <td>5032179</td>\n",
       "      <td>162804.0</td>\n",
       "      <td>2576668.0</td>\n",
       "      <td>2292707.0</td>\n",
       "      <td>18296.0</td>\n",
       "      <td>15194.0</td>\n",
       "      <td>492.0</td>\n",
       "      <td>63139605.0</td>\n",
       "      <td>190640.0</td>\n",
       "      <td>Americas</td>\n",
       "    </tr>\n",
       "    <tr>\n",
       "      <th>1</th>\n",
       "      <td>Brazil</td>\n",
       "      <td>South America</td>\n",
       "      <td>2.127107e+08</td>\n",
       "      <td>2917562</td>\n",
       "      <td>98644.0</td>\n",
       "      <td>2047660.0</td>\n",
       "      <td>771258.0</td>\n",
       "      <td>8318.0</td>\n",
       "      <td>13716.0</td>\n",
       "      <td>464.0</td>\n",
       "      <td>13206188.0</td>\n",
       "      <td>62085.0</td>\n",
       "      <td>Americas</td>\n",
       "    </tr>\n",
       "    <tr>\n",
       "      <th>2</th>\n",
       "      <td>India</td>\n",
       "      <td>Asia</td>\n",
       "      <td>1.381345e+09</td>\n",
       "      <td>2025409</td>\n",
       "      <td>41638.0</td>\n",
       "      <td>1377384.0</td>\n",
       "      <td>606387.0</td>\n",
       "      <td>8944.0</td>\n",
       "      <td>1466.0</td>\n",
       "      <td>30.0</td>\n",
       "      <td>22149351.0</td>\n",
       "      <td>16035.0</td>\n",
       "      <td>South-EastAsia</td>\n",
       "    </tr>\n",
       "    <tr>\n",
       "      <th>3</th>\n",
       "      <td>Russia</td>\n",
       "      <td>Europe</td>\n",
       "      <td>1.459409e+08</td>\n",
       "      <td>871894</td>\n",
       "      <td>14606.0</td>\n",
       "      <td>676357.0</td>\n",
       "      <td>180931.0</td>\n",
       "      <td>2300.0</td>\n",
       "      <td>5974.0</td>\n",
       "      <td>100.0</td>\n",
       "      <td>29716907.0</td>\n",
       "      <td>203623.0</td>\n",
       "      <td>Europe</td>\n",
       "    </tr>\n",
       "    <tr>\n",
       "      <th>4</th>\n",
       "      <td>South Africa</td>\n",
       "      <td>Africa</td>\n",
       "      <td>5.938157e+07</td>\n",
       "      <td>538184</td>\n",
       "      <td>9604.0</td>\n",
       "      <td>387316.0</td>\n",
       "      <td>141264.0</td>\n",
       "      <td>539.0</td>\n",
       "      <td>9063.0</td>\n",
       "      <td>162.0</td>\n",
       "      <td>3149807.0</td>\n",
       "      <td>53044.0</td>\n",
       "      <td>Africa</td>\n",
       "    </tr>\n",
       "  </tbody>\n",
       "</table>\n",
       "</div>"
      ],
      "text/plain": [
       "  Country/Region      Continent    Population  TotalCases  TotalDeaths  \\\n",
       "0            USA  North America  3.311981e+08     5032179     162804.0   \n",
       "1         Brazil  South America  2.127107e+08     2917562      98644.0   \n",
       "2          India           Asia  1.381345e+09     2025409      41638.0   \n",
       "3         Russia         Europe  1.459409e+08      871894      14606.0   \n",
       "4   South Africa         Africa  5.938157e+07      538184       9604.0   \n",
       "\n",
       "   TotalRecovered  ActiveCases  Serious,Critical  Tot Cases/1M pop  \\\n",
       "0       2576668.0    2292707.0           18296.0           15194.0   \n",
       "1       2047660.0     771258.0            8318.0           13716.0   \n",
       "2       1377384.0     606387.0            8944.0            1466.0   \n",
       "3        676357.0     180931.0            2300.0            5974.0   \n",
       "4        387316.0     141264.0             539.0            9063.0   \n",
       "\n",
       "   Deaths/1M pop  TotalTests  Tests/1M pop      WHO Region  \n",
       "0          492.0  63139605.0      190640.0        Americas  \n",
       "1          464.0  13206188.0       62085.0        Americas  \n",
       "2           30.0  22149351.0       16035.0  South-EastAsia  \n",
       "3          100.0  29716907.0      203623.0          Europe  \n",
       "4          162.0   3149807.0       53044.0          Africa  "
      ]
     },
     "execution_count": 8,
     "metadata": {},
     "output_type": "execute_result"
    }
   ],
   "source": [
    "worldometer_data = worldometer_data.drop(columns=[\"NewCases\", \"NewDeaths\", \"NewRecovered\"])\n",
    "worldometer_data.head()"
   ]
  },
  {
   "cell_type": "markdown",
   "metadata": {},
   "source": [
    "- Next, for the numerical columns (those with data types int or float), we will fill any remaining missing values with 0."
   ]
  },
  {
   "cell_type": "code",
   "execution_count": 9,
   "metadata": {},
   "outputs": [],
   "source": [
    "worldometer_data = worldometer_data.fillna(0)"
   ]
  },
  {
   "cell_type": "markdown",
   "metadata": {},
   "source": [
    "- Finally, we will check the missing values again after dropping the columns `NewCases`, `NewDeaths`, `NewRecovered` and filling the remaining missing values in numerical columns."
   ]
  },
  {
   "cell_type": "code",
   "execution_count": 10,
   "metadata": {},
   "outputs": [
    {
     "name": "stdout",
     "output_type": "stream",
     "text": [
      "Population                     type <class 'numpy.float64'>        0.00%\n",
      "TotalCases                     type <class 'numpy.int64'>          0.00%\n",
      "TotalDeaths                    type <class 'numpy.float64'>        0.00%\n",
      "TotalRecovered                 type <class 'numpy.float64'>        0.00%\n",
      "ActiveCases                    type <class 'numpy.float64'>        0.00%\n",
      "Serious,Critical               type <class 'numpy.float64'>        0.00%\n",
      "Tot Cases/1M pop               type <class 'numpy.float64'>        0.00%\n",
      "Deaths/1M pop                  type <class 'numpy.float64'>        0.00%\n",
      "TotalTests                     type <class 'numpy.float64'>        0.00%\n",
      "Tests/1M pop                   type <class 'numpy.float64'>        0.00%\n"
     ]
    }
   ],
   "source": [
    "missing_percentage_for_numerical(worldometer_data)"
   ]
  },
  {
   "cell_type": "markdown",
   "metadata": {},
   "source": [
    "As we have checked the missing values, we can proceed with the analysis without worrying about missing data (missing ratio = 0%) and we can move to next step."
   ]
  },
  {
   "cell_type": "markdown",
   "metadata": {},
   "source": [
    "### Minimum and maximum values"
   ]
  },
  {
   "cell_type": "markdown",
   "metadata": {},
   "source": [
    "In this section, we will check the minimum and maximum values for each numerical column and assess whether any of them are abnormal."
   ]
  },
  {
   "cell_type": "code",
   "execution_count": 11,
   "metadata": {},
   "outputs": [
    {
     "data": {
      "image/png": "[encoded data removed]",
      "text/plain": [
       "<Figure size 640x480 with 1 Axes>"
      ]
     },
     "metadata": {},
     "output_type": "display_data"
    },
    {
     "data": {
      "image/png": "[encoded data removed]",
      "text/plain": [
       "<Figure size 640x480 with 1 Axes>"
      ]
     },
     "metadata": {},
     "output_type": "display_data"
    },
    {
     "data": {
      "image/png": "[encoded data removed]",
      "text/plain": [
       "<Figure size 640x480 with 1 Axes>"
      ]
     },
     "metadata": {},
     "output_type": "display_data"
    },
    {
     "data": {
      "image/png": "[encoded data removed]",
      "text/plain": [
       "<Figure size 640x480 with 1 Axes>"
      ]
     },
     "metadata": {},
     "output_type": "display_data"
    },
    {
     "data": {
      "image/png": "[encoded data removed]",
      "text/plain": [
       "<Figure size 640x480 with 1 Axes>"
      ]
     },
     "metadata": {},
     "output_type": "display_data"
    },
    {
     "data": {
      "image/png": "[encoded data removed]",
      "text/plain": [
       "<Figure size 640x480 with 1 Axes>"
      ]
     },
     "metadata": {},
     "output_type": "display_data"
    },
    {
     "data": {
      "image/png": "[encoded data removed]",
      "text/plain": [
       "<Figure size 640x480 with 1 Axes>"
      ]
     },
     "metadata": {},
     "output_type": "display_data"
    },
    {
     "data": {
      "image/png": "[encoded data removed]",
      "text/plain": [
       "<Figure size 640x480 with 1 Axes>"
      ]
     },
     "metadata": {},
     "output_type": "display_data"
    },
    {
     "data": {
      "image/png": "[encoded data removed]",
      "text/plain": [
       "<Figure size 640x480 with 1 Axes>"
      ]
     },
     "metadata": {},
     "output_type": "display_data"
    },
    {
     "data": {
      "image/png": "[encoded data removed]",
      "text/plain": [
       "<Figure size 640x480 with 1 Axes>"
      ]
     },
     "metadata": {},
     "output_type": "display_data"
    }
   ],
   "source": [
    "numerical_cols = worldometer_data.select_dtypes(include=[np.number]).columns\n",
    "\n",
    "for col in numerical_cols:\n",
    "    sns.boxplot(x=worldometer_data[col], color='plum')\n",
    "    plt.title(f'Boxplot of {col}')\n",
    "    plt.show()"
   ]
  },
  {
   "cell_type": "markdown",
   "metadata": {},
   "source": [
    "Based on the boxplot images, the min/max values fall outside the whiskers, which indicates that they are abnormal values (outliers). These values are significantly different from the rest of the data and should be investigated further."
   ]
  },
  {
   "cell_type": "markdown",
   "metadata": {},
   "source": [
    "To analyze distribution of numerical columns, we use `describe()` to calculate some statistics for numerical columns: mean, min, max, median, lower quartile, upper quartile, standard deviation."
   ]
  },
  {
   "cell_type": "code",
   "execution_count": 12,
   "metadata": {},
   "outputs": [
    {
     "data": {
      "text/html": [
       "<div>\n",
       "<style scoped>\n",
       "    .dataframe tbody tr th:only-of-type {\n",
       "        vertical-align: middle;\n",
       "    }\n",
       "\n",
       "    .dataframe tbody tr th {\n",
       "        vertical-align: top;\n",
       "    }\n",
       "\n",
       "    .dataframe thead th {\n",
       "        text-align: right;\n",
       "    }\n",
       "</style>\n",
       "<table border=\"1\" class=\"dataframe\">\n",
       "  <thead>\n",
       "    <tr style=\"text-align: right;\">\n",
       "      <th></th>\n",
       "      <th>Population</th>\n",
       "      <th>TotalCases</th>\n",
       "      <th>TotalDeaths</th>\n",
       "      <th>TotalRecovered</th>\n",
       "      <th>ActiveCases</th>\n",
       "      <th>Serious,Critical</th>\n",
       "      <th>Tot Cases/1M pop</th>\n",
       "      <th>Deaths/1M pop</th>\n",
       "      <th>TotalTests</th>\n",
       "      <th>Tests/1M pop</th>\n",
       "    </tr>\n",
       "  </thead>\n",
       "  <tbody>\n",
       "    <tr>\n",
       "      <th>count</th>\n",
       "      <td>2.090000e+02</td>\n",
       "      <td>2.090000e+02</td>\n",
       "      <td>209.000000</td>\n",
       "      <td>2.090000e+02</td>\n",
       "      <td>2.090000e+02</td>\n",
       "      <td>209.000000</td>\n",
       "      <td>209.000000</td>\n",
       "      <td>209.000000</td>\n",
       "      <td>2.090000e+02</td>\n",
       "      <td>209.000000</td>\n",
       "    </tr>\n",
       "    <tr>\n",
       "      <th>mean</th>\n",
       "      <td>3.026996e+07</td>\n",
       "      <td>9.171850e+04</td>\n",
       "      <td>3411.516746</td>\n",
       "      <td>5.775211e+04</td>\n",
       "      <td>2.713487e+04</td>\n",
       "      <td>311.942584</td>\n",
       "      <td>3180.732057</td>\n",
       "      <td>88.293684</td>\n",
       "      <td>1.281623e+06</td>\n",
       "      <td>76728.416268</td>\n",
       "    </tr>\n",
       "    <tr>\n",
       "      <th>std</th>\n",
       "      <td>1.045351e+08</td>\n",
       "      <td>4.325867e+05</td>\n",
       "      <td>14728.994111</td>\n",
       "      <td>2.543468e+05</td>\n",
       "      <td>1.729872e+05</td>\n",
       "      <td>1583.835315</td>\n",
       "      <td>5184.206523</td>\n",
       "      <td>168.207839</td>\n",
       "      <td>5.322273e+06</td>\n",
       "      <td>147869.771367</td>\n",
       "    </tr>\n",
       "    <tr>\n",
       "      <th>min</th>\n",
       "      <td>0.000000e+00</td>\n",
       "      <td>1.000000e+01</td>\n",
       "      <td>0.000000</td>\n",
       "      <td>0.000000e+00</td>\n",
       "      <td>0.000000e+00</td>\n",
       "      <td>0.000000</td>\n",
       "      <td>0.000000</td>\n",
       "      <td>0.000000</td>\n",
       "      <td>0.000000e+00</td>\n",
       "      <td>0.000000</td>\n",
       "    </tr>\n",
       "    <tr>\n",
       "      <th>25%</th>\n",
       "      <td>8.970950e+05</td>\n",
       "      <td>7.120000e+02</td>\n",
       "      <td>12.000000</td>\n",
       "      <td>3.080000e+02</td>\n",
       "      <td>7.400000e+01</td>\n",
       "      <td>0.000000</td>\n",
       "      <td>279.000000</td>\n",
       "      <td>4.000000</td>\n",
       "      <td>1.080800e+04</td>\n",
       "      <td>6261.000000</td>\n",
       "    </tr>\n",
       "    <tr>\n",
       "      <th>50%</th>\n",
       "      <td>6.942854e+06</td>\n",
       "      <td>4.491000e+03</td>\n",
       "      <td>70.000000</td>\n",
       "      <td>2.010000e+03</td>\n",
       "      <td>8.580000e+02</td>\n",
       "      <td>2.000000</td>\n",
       "      <td>1000.000000</td>\n",
       "      <td>20.000000</td>\n",
       "      <td>1.099460e+05</td>\n",
       "      <td>29041.000000</td>\n",
       "    </tr>\n",
       "    <tr>\n",
       "      <th>75%</th>\n",
       "      <td>2.552886e+07</td>\n",
       "      <td>3.689600e+04</td>\n",
       "      <td>600.000000</td>\n",
       "      <td>1.959600e+04</td>\n",
       "      <td>7.113000e+03</td>\n",
       "      <td>41.000000</td>\n",
       "      <td>3806.000000</td>\n",
       "      <td>80.000000</td>\n",
       "      <td>6.924300e+05</td>\n",
       "      <td>75521.000000</td>\n",
       "    </tr>\n",
       "    <tr>\n",
       "      <th>max</th>\n",
       "      <td>1.381345e+09</td>\n",
       "      <td>5.032179e+06</td>\n",
       "      <td>162804.000000</td>\n",
       "      <td>2.576668e+06</td>\n",
       "      <td>2.292707e+06</td>\n",
       "      <td>18296.000000</td>\n",
       "      <td>39922.000000</td>\n",
       "      <td>1238.000000</td>\n",
       "      <td>6.313960e+07</td>\n",
       "      <td>995282.000000</td>\n",
       "    </tr>\n",
       "  </tbody>\n",
       "</table>\n",
       "</div>"
      ],
      "text/plain": [
       "         Population    TotalCases    TotalDeaths  TotalRecovered  \\\n",
       "count  2.090000e+02  2.090000e+02     209.000000    2.090000e+02   \n",
       "mean   3.026996e+07  9.171850e+04    3411.516746    5.775211e+04   \n",
       "std    1.045351e+08  4.325867e+05   14728.994111    2.543468e+05   \n",
       "min    0.000000e+00  1.000000e+01       0.000000    0.000000e+00   \n",
       "25%    8.970950e+05  7.120000e+02      12.000000    3.080000e+02   \n",
       "50%    6.942854e+06  4.491000e+03      70.000000    2.010000e+03   \n",
       "75%    2.552886e+07  3.689600e+04     600.000000    1.959600e+04   \n",
       "max    1.381345e+09  5.032179e+06  162804.000000    2.576668e+06   \n",
       "\n",
       "        ActiveCases  Serious,Critical  Tot Cases/1M pop  Deaths/1M pop  \\\n",
       "count  2.090000e+02        209.000000        209.000000     209.000000   \n",
       "mean   2.713487e+04        311.942584       3180.732057      88.293684   \n",
       "std    1.729872e+05       1583.835315       5184.206523     168.207839   \n",
       "min    0.000000e+00          0.000000          0.000000       0.000000   \n",
       "25%    7.400000e+01          0.000000        279.000000       4.000000   \n",
       "50%    8.580000e+02          2.000000       1000.000000      20.000000   \n",
       "75%    7.113000e+03         41.000000       3806.000000      80.000000   \n",
       "max    2.292707e+06      18296.000000      39922.000000    1238.000000   \n",
       "\n",
       "         TotalTests   Tests/1M pop  \n",
       "count  2.090000e+02     209.000000  \n",
       "mean   1.281623e+06   76728.416268  \n",
       "std    5.322273e+06  147869.771367  \n",
       "min    0.000000e+00       0.000000  \n",
       "25%    1.080800e+04    6261.000000  \n",
       "50%    1.099460e+05   29041.000000  \n",
       "75%    6.924300e+05   75521.000000  \n",
       "max    6.313960e+07  995282.000000  "
      ]
     },
     "execution_count": 12,
     "metadata": {},
     "output_type": "execute_result"
    }
   ],
   "source": [
    "worldometer_data.describe()"
   ]
  },
  {
   "cell_type": "markdown",
   "metadata": {},
   "source": [
    "From these statistics, we observe significant variation across countries in terms of the dataset, with some extreme values (outliers) that may need further investigation. The wide range of values, especially for `TotalCases`, `TotalDeaths`, and `TotalTesting`, indicates that the data includes countries with very different scales of impact."
   ]
  },
  {
   "cell_type": "markdown",
   "metadata": {},
   "source": [
    "## **Distribution of categorical columns**"
   ]
  },
  {
   "cell_type": "markdown",
   "metadata": {},
   "source": [
    "Otherwise, we also need to consider the distribution of categorical columns. This helps us understand the overall makeup of categorical data and check for any issues such as missing values or unexpected categories."
   ]
  },
  {
   "cell_type": "markdown",
   "metadata": {},
   "source": [
    "### Percentage of missing values"
   ]
  },
  {
   "cell_type": "markdown",
   "metadata": {},
   "source": [
    "First, we need to first check the percentage of missing values for each categorical column."
   ]
  },
  {
   "cell_type": "code",
   "execution_count": 13,
   "metadata": {},
   "outputs": [
    {
     "name": "stdout",
     "output_type": "stream",
     "text": [
      "Country/Region                 type <class 'str'>                  0.00%\n",
      "Continent                      type <class 'str'>                  0.00%\n",
      "WHO Region                     type <class 'str'>                  0.00%\n"
     ]
    }
   ],
   "source": [
    "def missing_percentage_for_categorical(data):\n",
    "    categorical_cols = worldometer_data.select_dtypes(include=['object']).columns\n",
    "    for column in categorical_cols:\n",
    "        missing_values = data[column].isna().sum()\n",
    "        print(f\"{column:<30} type {str(type(data[column][0])):<30} {missing_values / len(data) * 100:.2f}%\")\n",
    "\n",
    "missing_percentage_for_categorical(worldometer_data)"
   ]
  },
  {
   "cell_type": "markdown",
   "metadata": {},
   "source": [
    "The missing values seems not to be existed in any categorical columns, so we move to analyze the distribution of values."
   ]
  },
  {
   "cell_type": "markdown",
   "metadata": {},
   "source": [
    "### Number of different values"
   ]
  },
  {
   "cell_type": "markdown",
   "metadata": {},
   "source": [
    "Next, we examine how many unique categories each column has. This helps us understand the diversity of categories within each column."
   ]
  },
  {
   "cell_type": "code",
   "execution_count": 14,
   "metadata": {},
   "outputs": [
    {
     "name": "stdout",
     "output_type": "stream",
     "text": [
      "Country/Region                 has 209 unique values\n",
      "Continent                      has 7 unique values\n",
      "WHO Region                     has 7 unique values\n"
     ]
    }
   ],
   "source": [
    "for column in worldometer_data.select_dtypes(include=['object']).columns:\n",
    "    unique_values = worldometer_data[column].nunique()\n",
    "    print(f\"{column:<30} has {unique_values} unique values\")"
   ]
  },
  {
   "cell_type": "markdown",
   "metadata": {},
   "source": [
    "### Abnormal values"
   ]
  },
  {
   "cell_type": "markdown",
   "metadata": {},
   "source": [
    "Finally, we need to check for abnormal values in each categorical column. These are values that might not belong to the expected set of categories or have a very low frequency, potentially indicating data entry errors."
   ]
  },
  {
   "cell_type": "code",
   "execution_count": 15,
   "metadata": {},
   "outputs": [
    {
     "data": {
      "text/html": [
       "<div>\n",
       "<style scoped>\n",
       "    .dataframe tbody tr th:only-of-type {\n",
       "        vertical-align: middle;\n",
       "    }\n",
       "\n",
       "    .dataframe tbody tr th {\n",
       "        vertical-align: top;\n",
       "    }\n",
       "\n",
       "    .dataframe thead th {\n",
       "        text-align: right;\n",
       "    }\n",
       "</style>\n",
       "<table border=\"1\" class=\"dataframe\">\n",
       "  <thead>\n",
       "    <tr style=\"text-align: right;\">\n",
       "      <th></th>\n",
       "      <th>num_values</th>\n",
       "      <th>value_ratio</th>\n",
       "    </tr>\n",
       "  </thead>\n",
       "  <tbody>\n",
       "    <tr>\n",
       "      <th>Country/Region</th>\n",
       "      <td>209</td>\n",
       "      <td>{'USA': 0.5, 'Brazil': 0.5, 'India': 0.5, 'Rus...</td>\n",
       "    </tr>\n",
       "    <tr>\n",
       "      <th>Continent</th>\n",
       "      <td>7</td>\n",
       "      <td>{'Africa': 27.3, 'Europe': 23.0, 'Asia': 23.0,...</td>\n",
       "    </tr>\n",
       "    <tr>\n",
       "      <th>WHO Region</th>\n",
       "      <td>7</td>\n",
       "      <td>{'Europe': 26.3, 'Africa': 22.5, 'Americas': 1...</td>\n",
       "    </tr>\n",
       "  </tbody>\n",
       "</table>\n",
       "</div>"
      ],
      "text/plain": [
       "               num_values                                        value_ratio\n",
       "Country/Region        209  {'USA': 0.5, 'Brazil': 0.5, 'India': 0.5, 'Rus...\n",
       "Continent               7  {'Africa': 27.3, 'Europe': 23.0, 'Asia': 23.0,...\n",
       "WHO Region              7  {'Europe': 26.3, 'Africa': 22.5, 'Americas': 1..."
      ]
     },
     "execution_count": 15,
     "metadata": {},
     "output_type": "execute_result"
    }
   ],
   "source": [
    "categorical_cols = worldometer_data.select_dtypes(include=['object']).columns\n",
    "\n",
    "cat_col_info = {}\n",
    "\n",
    "for col in categorical_cols:    \n",
    "    num_values = worldometer_data[col].nunique(dropna=True)\n",
    "\n",
    "    value_ratio = (np.round(worldometer_data[col].value_counts(normalize=True, ascending=False) * 100, 1)).to_dict()\n",
    "    \n",
    "    cat_col_info[col] = {\n",
    "        \"num_values\": num_values,\n",
    "        \"value_ratio\": value_ratio\n",
    "    }\n",
    "\n",
    "cat_col_info_df = pd.DataFrame(cat_col_info)\n",
    "cat_col_info_df.T"
   ]
  },
  {
   "cell_type": "markdown",
   "metadata": {},
   "source": [
    "In conclusion:\n",
    "- `Country/Region`: There are 209 unique values, with a diverse representation of countries/regions.\n",
    "- `Continent`: There are 7 unique continents, with Africa, Europe, and Asia being the most frequent.\n",
    "- `WHO Region`: There are 7 unique WHO regions, with Europe and Africa being the most prominent.\n",
    "\n",
    "The dataset shows a broad geographical coverage, with no abnormal distribution observed in the categorical columns."
   ]
  },
  {
   "cell_type": "markdown",
   "metadata": {},
   "source": [
    "## **Save the cleaned data**\n",
    "Save the cleaned data in `cleaned_data` folder for further analysis."
   ]
  },
  {
   "cell_type": "code",
   "execution_count": 16,
   "metadata": {},
   "outputs": [],
   "source": [
    "worldometer_data.to_csv(r\"cleaned_data/latest.csv\", index=False)"
   ]
  }
 ],
 "metadata": {
  "kernelspec": {
   "display_name": "min_ds-env",
   "language": "python",
   "name": "python3"
  },
  "language_info": {
   "codemirror_mode": {
    "name": "ipython",
    "version": 3
   },
   "file_extension": ".py",
   "mimetype": "text/x-python",
   "name": "python",
   "nbconvert_exporter": "python",
   "pygments_lexer": "ipython3",
   "version": "3.13.0"
  }
 },
 "nbformat": 4,
 "nbformat_minor": 2
}

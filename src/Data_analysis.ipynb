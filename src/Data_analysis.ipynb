{
 "cells": [
  {
   "cell_type": "markdown",
   "metadata": {},
   "source": [
    "<div style=\"font-family: Arial, Helvetica, sans-serif;\">\n",
    "    <div style=\"display: flex;padding-top: 20px\">\n",
    "        <div><strong>Course:</strong> Programming for Data Science</div>\n",
    "    </div>\n",
    "    <div style=\"display: flex;padding-top: 20px\">\n",
    "        <div style=\"padding-right: 10px;\"><strong>Class:</strong> 22KHDL</div>\n",
    "        <div></div>\n",
    "    </div>\n",
    "    <div style=\"display: flex;padding-top: 20px\">\n",
    "        <div style=\"padding-right: 10px;\"><strong>Group:</strong></div>\n",
    "    </div>\n",
    "    <div>\n",
    "        <div style=\"display: flex;padding-top: 20px\">\n",
    "            <div style=\"padding-right: 10px;\"><strong>Members:</strong></div>\n",
    "            <div></div>\n",
    "        </div>\n",
    "        <table style=\"font-size: 15px; display:flex;padding-top: 20px\">\n",
    "            <tr>\n",
    "                <th>No.</th>\n",
    "                <th>Student ID</th>\n",
    "                <th>Name</th>\n",
    "            </tr>\n",
    "            <tr>\n",
    "                <td>1</td>\n",
    "                <td> 22127008 </td>\n",
    "                <td style=\"text-align:left;\">Đặng Châu Anh</td>\n",
    "            </tr>\n",
    "            <tr>\n",
    "                <td>2</td>\n",
    "                <td>22127014</td>\n",
    "                <td style=\"text-align:left;\">Nguyễn Kim Anh</td>\n",
    "            </tr>\n",
    "            <tr>\n",
    "                <td>3</td>\n",
    "                <td> 22127170 </td>\n",
    "                <td style=\"text-align:left;\">Trần Dịu Huyền</td>\n",
    "            </tr>\n",
    "        </table>\n",
    "    </div>\n",
    "    <div style=\"font-size: 25px ;font-weight: 800; text-align: center;padding-top: 20px;\">FINAL PROJECT</div>\n",
    "    <div style=\"font-size: 20px ;font-weight: 800; text-align: center;padding-top: 20px;\">COVID - 19 ANALYSIS - DATA ANALYSIS</div>\n",
    "</div>"
   ]
  },
  {
   "cell_type": "markdown",
   "metadata": {},
   "source": [
    "# **Table of Contents**\n",
    "\n",
    "1. [**Import necessary packages**](#import)\n",
    "\n",
    "2. [**Load data**](#load)\n",
    "\n",
    "3. [**Preprocessing**](#preprocessing)\n",
    "\n",
    "4. [**Analysis**](#analysis)\n",
    "    - [Question 1](#q1)\n",
    "    - [Question 2](#q2)\n",
    "    - [Question 3](#q3)\n",
    "    - [Question 4](#q4)\n",
    "    - [Question 5](#q5)\n",
    "    - [Question 6](#q6)"
   ]
  },
  {
   "cell_type": "markdown",
   "metadata": {},
   "source": [
    "# **Data Analysis**\n",
    "<a id=\"import\"></a>\n",
    "## **Import necessary packages**"
   ]
  },
  {
   "cell_type": "code",
   "execution_count": 1,
   "metadata": {},
   "outputs": [],
   "source": [
    "import pandas as pd\n",
    "import numpy as np\n",
    "import matplotlib.pyplot as plt\n",
    "import seaborn as sns"
   ]
  },
  {
   "cell_type": "markdown",
   "metadata": {},
   "source": [
    "<a id=\"load\"></a>\n",
    "## **Load data**\n",
    "Read cleaned data from last section\n",
    "- Read the data from the file `covid_19.csv` and display the 5 rows of the data."
   ]
  },
  {
   "cell_type": "code",
   "execution_count": 2,
   "metadata": {},
   "outputs": [
    {
     "data": {
      "text/html": [
       "<div>\n",
       "<style scoped>\n",
       "    .dataframe tbody tr th:only-of-type {\n",
       "        vertical-align: middle;\n",
       "    }\n",
       "\n",
       "    .dataframe tbody tr th {\n",
       "        vertical-align: top;\n",
       "    }\n",
       "\n",
       "    .dataframe thead th {\n",
       "        text-align: right;\n",
       "    }\n",
       "</style>\n",
       "<table border=\"1\" class=\"dataframe\">\n",
       "  <thead>\n",
       "    <tr style=\"text-align: right;\">\n",
       "      <th></th>\n",
       "      <th>Country/Region</th>\n",
       "      <th>Lat</th>\n",
       "      <th>Long</th>\n",
       "      <th>Date</th>\n",
       "      <th>Confirmed</th>\n",
       "      <th>Deaths</th>\n",
       "      <th>Recovered</th>\n",
       "      <th>Active</th>\n",
       "      <th>WHO Region</th>\n",
       "    </tr>\n",
       "  </thead>\n",
       "  <tbody>\n",
       "    <tr>\n",
       "      <th>31788</th>\n",
       "      <td>Thailand</td>\n",
       "      <td>15.870032</td>\n",
       "      <td>100.992541</td>\n",
       "      <td>2020-05-22</td>\n",
       "      <td>3037</td>\n",
       "      <td>56</td>\n",
       "      <td>2910</td>\n",
       "      <td>71</td>\n",
       "      <td>South-East Asia</td>\n",
       "    </tr>\n",
       "    <tr>\n",
       "      <th>48804</th>\n",
       "      <td>Comoros</td>\n",
       "      <td>-11.645500</td>\n",
       "      <td>43.333300</td>\n",
       "      <td>2020-07-26</td>\n",
       "      <td>354</td>\n",
       "      <td>7</td>\n",
       "      <td>328</td>\n",
       "      <td>19</td>\n",
       "      <td>Africa</td>\n",
       "    </tr>\n",
       "    <tr>\n",
       "      <th>15575</th>\n",
       "      <td>Panama</td>\n",
       "      <td>8.538000</td>\n",
       "      <td>-80.782100</td>\n",
       "      <td>2020-03-21</td>\n",
       "      <td>200</td>\n",
       "      <td>1</td>\n",
       "      <td>0</td>\n",
       "      <td>199</td>\n",
       "      <td>Americas</td>\n",
       "    </tr>\n",
       "    <tr>\n",
       "      <th>40455</th>\n",
       "      <td>Afghanistan</td>\n",
       "      <td>33.939110</td>\n",
       "      <td>67.709953</td>\n",
       "      <td>2020-06-25</td>\n",
       "      <td>30175</td>\n",
       "      <td>675</td>\n",
       "      <td>10174</td>\n",
       "      <td>19326</td>\n",
       "      <td>Eastern Mediterranean</td>\n",
       "    </tr>\n",
       "    <tr>\n",
       "      <th>20385</th>\n",
       "      <td>Bosnia and Herzegovina</td>\n",
       "      <td>43.915900</td>\n",
       "      <td>17.679100</td>\n",
       "      <td>2020-04-09</td>\n",
       "      <td>858</td>\n",
       "      <td>35</td>\n",
       "      <td>101</td>\n",
       "      <td>722</td>\n",
       "      <td>Europe</td>\n",
       "    </tr>\n",
       "  </tbody>\n",
       "</table>\n",
       "</div>"
      ],
      "text/plain": [
       "               Country/Region        Lat        Long        Date  Confirmed  \\\n",
       "31788                Thailand  15.870032  100.992541  2020-05-22       3037   \n",
       "48804                 Comoros -11.645500   43.333300  2020-07-26        354   \n",
       "15575                  Panama   8.538000  -80.782100  2020-03-21        200   \n",
       "40455             Afghanistan  33.939110   67.709953  2020-06-25      30175   \n",
       "20385  Bosnia and Herzegovina  43.915900   17.679100  2020-04-09        858   \n",
       "\n",
       "       Deaths  Recovered  Active             WHO Region  \n",
       "31788      56       2910      71        South-East Asia  \n",
       "48804       7        328      19                 Africa  \n",
       "15575       1          0     199               Americas  \n",
       "40455     675      10174   19326  Eastern Mediterranean  \n",
       "20385      35        101     722                 Europe  "
      ]
     },
     "execution_count": 2,
     "metadata": {},
     "output_type": "execute_result"
    }
   ],
   "source": [
    "# covid_19.csv\n",
    "covid_19_df = pd.read_csv(\"./cleaned_data/covid_19.csv\")\n",
    "covid_19_df.sample(5)"
   ]
  },
  {
   "cell_type": "markdown",
   "metadata": {},
   "source": [
    "<a id=\"preprocessing\"></a>\n",
    "## **Preprocessing**"
   ]
  },
  {
   "cell_type": "code",
   "execution_count": null,
   "metadata": {},
   "outputs": [],
   "source": []
  },
  {
   "cell_type": "markdown",
   "metadata": {},
   "source": [
    "<a id=\"analysis\"></a>\n",
    "## **Analysis**\n",
    "<a id=\"q1\"></a>\n",
    "### **Question 1.** What are total number of Confirmed, Deaths, Recovered and Active cases around the world?\n",
    "- Answer this question indicating the total number of confirmed, deaths, recovered and active cases around the world.\n",
    "- Answer this question by finding out the total number of confirmed, deaths, recovered and active cases of all countries in `worldometer_data` and plot them using bar chart."
   ]
  },
  {
   "cell_type": "markdown",
   "metadata": {},
   "source": [
    "<a id=\"q2\"></a>\n",
    "### **Question 2.** Does the global trend over time for Confirmed/Deaths/Recovered cases evolve over time?\n",
    "- Answer this question indicates the trend of the number of confirmed, deaths, and recovered cases over time: when it peaks, when it decreases, and when it increases in the time series.\n",
    "- To answer this question, we will group `clean_complete_data` by `Date` and sum the values of `Confirmed`, `Deaths`, and `Recovered` columns. Then, we will plot the global trend over time for confirmed, deaths, and recovered cases using line charts."
   ]
  },
  {
   "cell_type": "code",
   "execution_count": 4,
   "metadata": {},
   "outputs": [
    {
     "data": {
      "text/html": [
       "<div>\n",
       "<style scoped>\n",
       "    .dataframe tbody tr th:only-of-type {\n",
       "        vertical-align: middle;\n",
       "    }\n",
       "\n",
       "    .dataframe tbody tr th {\n",
       "        vertical-align: top;\n",
       "    }\n",
       "\n",
       "    .dataframe thead th {\n",
       "        text-align: right;\n",
       "    }\n",
       "</style>\n",
       "<table border=\"1\" class=\"dataframe\">\n",
       "  <thead>\n",
       "    <tr style=\"text-align: right;\">\n",
       "      <th></th>\n",
       "      <th>Date</th>\n",
       "      <th>Confirmed</th>\n",
       "      <th>Deaths</th>\n",
       "      <th>Recovered</th>\n",
       "      <th>Active</th>\n",
       "    </tr>\n",
       "  </thead>\n",
       "  <tbody>\n",
       "    <tr>\n",
       "      <th>177</th>\n",
       "      <td>2020-07-17</td>\n",
       "      <td>14054563</td>\n",
       "      <td>596503</td>\n",
       "      <td>7793760</td>\n",
       "      <td>5664300</td>\n",
       "    </tr>\n",
       "    <tr>\n",
       "      <th>60</th>\n",
       "      <td>2020-03-22</td>\n",
       "      <td>341585</td>\n",
       "      <td>14831</td>\n",
       "      <td>95990</td>\n",
       "      <td>230764</td>\n",
       "    </tr>\n",
       "    <tr>\n",
       "      <th>175</th>\n",
       "      <td>2020-07-15</td>\n",
       "      <td>13559984</td>\n",
       "      <td>583961</td>\n",
       "      <td>7482320</td>\n",
       "      <td>5493703</td>\n",
       "    </tr>\n",
       "    <tr>\n",
       "      <th>125</th>\n",
       "      <td>2020-05-26</td>\n",
       "      <td>5597064</td>\n",
       "      <td>351906</td>\n",
       "      <td>2235118</td>\n",
       "      <td>3010040</td>\n",
       "    </tr>\n",
       "    <tr>\n",
       "      <th>145</th>\n",
       "      <td>2020-06-15</td>\n",
       "      <td>8043794</td>\n",
       "      <td>437549</td>\n",
       "      <td>3793406</td>\n",
       "      <td>3812839</td>\n",
       "    </tr>\n",
       "  </tbody>\n",
       "</table>\n",
       "</div>"
      ],
      "text/plain": [
       "           Date  Confirmed  Deaths  Recovered   Active\n",
       "177  2020-07-17   14054563  596503    7793760  5664300\n",
       "60   2020-03-22     341585   14831      95990   230764\n",
       "175  2020-07-15   13559984  583961    7482320  5493703\n",
       "125  2020-05-26    5597064  351906    2235118  3010040\n",
       "145  2020-06-15    8043794  437549    3793406  3812839"
      ]
     },
     "execution_count": 4,
     "metadata": {},
     "output_type": "execute_result"
    }
   ],
   "source": [
    "# Find total confirmed/deaths/recovered/acive cases per day\n",
    "total_per_day = covid_19_df.groupby('Date')[['Confirmed', 'Deaths', 'Recovered', 'Active']].sum().reset_index()\n",
    "total_per_day.to_csv(r\"cleaned_data/total_per_day.csv\", index=False)\n",
    "total_per_day.sample(5)"
   ]
  },
  {
   "cell_type": "markdown",
   "metadata": {},
   "source": [
    "<a id=\"q3\"></a>\n",
    "### **Question 3.** What are the top 10 countries with the lowest number of deaths/recovered/actived cases?\n",
    "- Answer this question provides the top 10 countries with the lowest number of case (death, recoverd, active) and by these results, we can see the countries that have the best control of the pandemic and gain some insights into find the least affected regions.\n",
    "- To answer this question, we will use `worldometer_data` and sort the values in ascending order. Then, we will display the top 10 countries with the lowest number of deaths, recovered, and active cases."
   ]
  },
  {
   "cell_type": "markdown",
   "metadata": {},
   "source": [
    "<a id=\"q4\"></a>\n",
    "### **Question 4.** What are the top 10 countries with the highest number of deaths/recovered/actived cases?\n",
    "- Answer this question provides the top 10 countries with the highest number of cases (death, recoverd, active) and by these results, we can see the countries that have the best control of the pandemic and gain some insights into find the most affected regions.\n",
    "- To answer this question, we will use `worldometer_data` and sort the values in descending order. Then, we will display the top 10 countries with the highest number of deaths, recovered, and active cases."
   ]
  },
  {
   "cell_type": "markdown",
   "metadata": {},
   "source": [
    "<a id=\"q5\"></a>\n",
    "### **Question 5.** The correlation between population, death cases, recovered case, active case and critical, serious case. Give insights into the relationship between the number of cases and deaths with the population of the country.\n",
    "- By answering this question, it helps us to understand the relationship between the population and total death cases, total recovered cases, total actived cases and critial, serious case. This information is useful for the to gain insigns about any feature affect the number of cases in that country.\n",
    "- Answer this question by calculating the correlation matrix between population, cases and deaths. Then, we will plot the correlation matrix using a heatmap."
   ]
  },
  {
   "cell_type": "markdown",
   "metadata": {},
   "source": [
    "<a id=\"q6\"></a>\n",
    "### **Question 6.** Total cases vs Total tests for each country"
   ]
  }
 ],
 "metadata": {
  "kernelspec": {
   "display_name": "min_ds-env",
   "language": "python",
   "name": "python3"
  },
  "language_info": {
   "codemirror_mode": {
    "name": "ipython",
    "version": 3
   },
   "file_extension": ".py",
   "mimetype": "text/x-python",
   "name": "python",
   "nbconvert_exporter": "python",
   "pygments_lexer": "ipython3",
   "version": "3.12.7"
  }
 },
 "nbformat": 4,
 "nbformat_minor": 2
}

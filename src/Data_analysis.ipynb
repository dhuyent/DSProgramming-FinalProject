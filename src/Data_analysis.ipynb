{
 "cells": [
  {
   "cell_type": "markdown",
   "metadata": {},
   "source": [
    "<div style=\"font-family: Arial, Helvetica, sans-serif;\">\n",
    "    <div style=\"display: flex;padding-top: 20px\">\n",
    "        <div><strong>Course:</strong> Programming for Data Science</div>\n",
    "    </div>\n",
    "    <div style=\"display: flex;padding-top: 20px\">\n",
    "        <div style=\"padding-right: 10px;\"><strong>Class:</strong> 22KHDL</div>\n",
    "        <div></div>\n",
    "    </div>\n",
    "    <div style=\"display: flex;padding-top: 20px\">\n",
    "        <div style=\"padding-right: 10px;\"><strong>Group:</strong> 5</div>\n",
    "    </div>\n",
    "    <div>\n",
    "        <div style=\"display: flex;padding-top: 20px\">\n",
    "            <div style=\"padding-right: 10px;\"><strong>Members:</strong></div>\n",
    "            <div></div>\n",
    "        </div>\n",
    "        <table style=\"font-size: 15px; display:flex;padding-top: 20px\">\n",
    "            <tr>\n",
    "                <th>No.</th>\n",
    "                <th>Student ID</th>\n",
    "                <th>Name</th>\n",
    "            </tr>\n",
    "            <tr>\n",
    "                <td>1</td>\n",
    "                <td> 22127008 </td>\n",
    "                <td style=\"text-align:left;\">Đặng Châu Anh</td>\n",
    "            </tr>\n",
    "            <tr>\n",
    "                <td>2</td>\n",
    "                <td>22127014</td>\n",
    "                <td style=\"text-align:left;\">Nguyễn Kim Anh</td>\n",
    "            </tr>\n",
    "            <tr>\n",
    "                <td>3</td>\n",
    "                <td> 22127170 </td>\n",
    "                <td style=\"text-align:left;\">Trần Dịu Huyền</td>\n",
    "            </tr>\n",
    "        </table>\n",
    "    </div>\n",
    "    <div style=\"font-size: 25px ;font-weight: 800; text-align: center;padding-top: 20px;\">FINAL PROJECT</div>\n",
    "    <div style=\"font-size: 20px ;font-weight: 800; text-align: center;padding-top: 20px;\">COVID - 19 ANALYSIS - DATA ANALYSIS</div>\n",
    "</div>"
   ]
  },
  {
   "cell_type": "markdown",
   "metadata": {},
   "source": [
    "# **Table of Contents**\n",
    "\n",
    "1. [**Import necessary packages**](#import)\n",
    "\n",
    "2. [**Load data**](#load)\n",
    "\n",
    "3. [**Preprocessing**](#preprocessing)\n",
    "\n",
    "4. [**Analysis**](#analysis)\n",
    "    - [Question 1](#q1)\n",
    "    - [Question 2](#q2)\n",
    "    - [Question 3](#q3)\n",
    "    - [Question 4](#q4)\n",
    "    - [Question 5](#q5)\n",
    "    - [Question 6](#q6)"
   ]
  },
  {
   "cell_type": "markdown",
   "metadata": {},
   "source": [
    "# **Data Analysis**\n",
    "<a id=\"import\"></a>\n",
    "## **Import necessary packages**"
   ]
  },
  {
   "cell_type": "code",
   "execution_count": 1,
   "metadata": {},
   "outputs": [],
   "source": [
    "import pandas as pd\n",
    "import numpy as np\n",
    "import matplotlib.pyplot as plt\n",
    "import seaborn as sns"
   ]
  },
  {
   "cell_type": "markdown",
   "metadata": {},
   "source": [
    "<a id=\"load\"></a>\n",
    "## **Load data**\n",
    "Read cleaned data from last section\n",
    "- Read the data from the file `covid_19.csv` and display the 5 rows of the data."
   ]
  },
  {
   "cell_type": "code",
   "execution_count": 2,
   "metadata": {},
   "outputs": [
    {
     "data": {
      "text/html": [
       "<div>\n",
       "<style scoped>\n",
       "    .dataframe tbody tr th:only-of-type {\n",
       "        vertical-align: middle;\n",
       "    }\n",
       "\n",
       "    .dataframe tbody tr th {\n",
       "        vertical-align: top;\n",
       "    }\n",
       "\n",
       "    .dataframe thead th {\n",
       "        text-align: right;\n",
       "    }\n",
       "</style>\n",
       "<table border=\"1\" class=\"dataframe\">\n",
       "  <thead>\n",
       "    <tr style=\"text-align: right;\">\n",
       "      <th></th>\n",
       "      <th>Country/Region</th>\n",
       "      <th>Lat</th>\n",
       "      <th>Long</th>\n",
       "      <th>Date</th>\n",
       "      <th>Confirmed</th>\n",
       "      <th>Deaths</th>\n",
       "      <th>Recovered</th>\n",
       "      <th>Active</th>\n",
       "      <th>WHO Region</th>\n",
       "    </tr>\n",
       "  </thead>\n",
       "  <tbody>\n",
       "    <tr>\n",
       "      <th>3887</th>\n",
       "      <td>Timor-Leste</td>\n",
       "      <td>-8.874217</td>\n",
       "      <td>125.727539</td>\n",
       "      <td>2020-02-05</td>\n",
       "      <td>0</td>\n",
       "      <td>0</td>\n",
       "      <td>0</td>\n",
       "      <td>0</td>\n",
       "      <td>South-East Asia</td>\n",
       "    </tr>\n",
       "    <tr>\n",
       "      <th>41765</th>\n",
       "      <td>Antigua and Barbuda</td>\n",
       "      <td>17.060800</td>\n",
       "      <td>-61.796400</td>\n",
       "      <td>2020-06-30</td>\n",
       "      <td>69</td>\n",
       "      <td>3</td>\n",
       "      <td>22</td>\n",
       "      <td>44</td>\n",
       "      <td>Americas</td>\n",
       "    </tr>\n",
       "    <tr>\n",
       "      <th>30525</th>\n",
       "      <td>Burundi</td>\n",
       "      <td>-3.373100</td>\n",
       "      <td>29.918900</td>\n",
       "      <td>2020-05-17</td>\n",
       "      <td>23</td>\n",
       "      <td>1</td>\n",
       "      <td>15</td>\n",
       "      <td>7</td>\n",
       "      <td>Africa</td>\n",
       "    </tr>\n",
       "    <tr>\n",
       "      <th>3611</th>\n",
       "      <td>United Kingdom</td>\n",
       "      <td>36.140800</td>\n",
       "      <td>-5.353600</td>\n",
       "      <td>2020-02-04</td>\n",
       "      <td>0</td>\n",
       "      <td>0</td>\n",
       "      <td>0</td>\n",
       "      <td>0</td>\n",
       "      <td>Europe</td>\n",
       "    </tr>\n",
       "    <tr>\n",
       "      <th>17540</th>\n",
       "      <td>China</td>\n",
       "      <td>23.341700</td>\n",
       "      <td>113.424400</td>\n",
       "      <td>2020-03-29</td>\n",
       "      <td>1475</td>\n",
       "      <td>8</td>\n",
       "      <td>1349</td>\n",
       "      <td>118</td>\n",
       "      <td>Western Pacific</td>\n",
       "    </tr>\n",
       "  </tbody>\n",
       "</table>\n",
       "</div>"
      ],
      "text/plain": [
       "            Country/Region        Lat        Long        Date  Confirmed  \\\n",
       "3887           Timor-Leste  -8.874217  125.727539  2020-02-05          0   \n",
       "41765  Antigua and Barbuda  17.060800  -61.796400  2020-06-30         69   \n",
       "30525              Burundi  -3.373100   29.918900  2020-05-17         23   \n",
       "3611        United Kingdom  36.140800   -5.353600  2020-02-04          0   \n",
       "17540                China  23.341700  113.424400  2020-03-29       1475   \n",
       "\n",
       "       Deaths  Recovered  Active       WHO Region  \n",
       "3887        0          0       0  South-East Asia  \n",
       "41765       3         22      44         Americas  \n",
       "30525       1         15       7           Africa  \n",
       "3611        0          0       0           Europe  \n",
       "17540       8       1349     118  Western Pacific  "
      ]
     },
     "execution_count": 2,
     "metadata": {},
     "output_type": "execute_result"
    }
   ],
   "source": [
    "# covid_19.csv\n",
    "covid_19_df = pd.read_csv(\"./cleaned_data/covid_19.csv\")\n",
    "covid_19_df.sample(5)"
   ]
  },
  {
   "cell_type": "markdown",
   "metadata": {},
   "source": [
    "Read cleaned data from last section\n",
    "- Read the data from the file `lastest.csv` and display the 5 rows of the data."
   ]
  },
  {
   "cell_type": "code",
   "execution_count": 3,
   "metadata": {},
   "outputs": [
    {
     "data": {
      "text/html": [
       "<div>\n",
       "<style scoped>\n",
       "    .dataframe tbody tr th:only-of-type {\n",
       "        vertical-align: middle;\n",
       "    }\n",
       "\n",
       "    .dataframe tbody tr th {\n",
       "        vertical-align: top;\n",
       "    }\n",
       "\n",
       "    .dataframe thead th {\n",
       "        text-align: right;\n",
       "    }\n",
       "</style>\n",
       "<table border=\"1\" class=\"dataframe\">\n",
       "  <thead>\n",
       "    <tr style=\"text-align: right;\">\n",
       "      <th></th>\n",
       "      <th>Country/Region</th>\n",
       "      <th>Continent</th>\n",
       "      <th>Population</th>\n",
       "      <th>TotalCases</th>\n",
       "      <th>TotalDeaths</th>\n",
       "      <th>TotalRecovered</th>\n",
       "      <th>ActiveCases</th>\n",
       "      <th>Serious,Critical</th>\n",
       "      <th>Tot Cases/1M pop</th>\n",
       "      <th>Deaths/1M pop</th>\n",
       "      <th>TotalTests</th>\n",
       "      <th>Tests/1M pop</th>\n",
       "      <th>WHO Region</th>\n",
       "    </tr>\n",
       "  </thead>\n",
       "  <tbody>\n",
       "    <tr>\n",
       "      <th>33</th>\n",
       "      <td>Dominican Republic</td>\n",
       "      <td>North America</td>\n",
       "      <td>10858648.0</td>\n",
       "      <td>76536</td>\n",
       "      <td>1246.0</td>\n",
       "      <td>40539.0</td>\n",
       "      <td>34751.0</td>\n",
       "      <td>317.0</td>\n",
       "      <td>7048.0</td>\n",
       "      <td>115.0</td>\n",
       "      <td>281926.0</td>\n",
       "      <td>25963.0</td>\n",
       "      <td>Americas</td>\n",
       "    </tr>\n",
       "    <tr>\n",
       "      <th>94</th>\n",
       "      <td>Albania</td>\n",
       "      <td>Europe</td>\n",
       "      <td>2877470.0</td>\n",
       "      <td>6016</td>\n",
       "      <td>188.0</td>\n",
       "      <td>3155.0</td>\n",
       "      <td>2673.0</td>\n",
       "      <td>23.0</td>\n",
       "      <td>2091.0</td>\n",
       "      <td>65.0</td>\n",
       "      <td>38997.0</td>\n",
       "      <td>13553.0</td>\n",
       "      <td>Europe</td>\n",
       "    </tr>\n",
       "    <tr>\n",
       "      <th>134</th>\n",
       "      <td>Angola</td>\n",
       "      <td>Africa</td>\n",
       "      <td>32956300.0</td>\n",
       "      <td>1483</td>\n",
       "      <td>64.0</td>\n",
       "      <td>520.0</td>\n",
       "      <td>899.0</td>\n",
       "      <td>20.0</td>\n",
       "      <td>45.0</td>\n",
       "      <td>2.0</td>\n",
       "      <td>64747.0</td>\n",
       "      <td>1965.0</td>\n",
       "      <td>Africa</td>\n",
       "    </tr>\n",
       "    <tr>\n",
       "      <th>181</th>\n",
       "      <td>Brunei</td>\n",
       "      <td>Asia</td>\n",
       "      <td>437893.0</td>\n",
       "      <td>141</td>\n",
       "      <td>3.0</td>\n",
       "      <td>138.0</td>\n",
       "      <td>0.0</td>\n",
       "      <td>0.0</td>\n",
       "      <td>322.0</td>\n",
       "      <td>7.0</td>\n",
       "      <td>41148.0</td>\n",
       "      <td>93968.0</td>\n",
       "      <td>0</td>\n",
       "    </tr>\n",
       "    <tr>\n",
       "      <th>129</th>\n",
       "      <td>Iceland</td>\n",
       "      <td>Europe</td>\n",
       "      <td>341465.0</td>\n",
       "      <td>1930</td>\n",
       "      <td>10.0</td>\n",
       "      <td>1825.0</td>\n",
       "      <td>95.0</td>\n",
       "      <td>0.0</td>\n",
       "      <td>5652.0</td>\n",
       "      <td>29.0</td>\n",
       "      <td>149693.0</td>\n",
       "      <td>438385.0</td>\n",
       "      <td>Europe</td>\n",
       "    </tr>\n",
       "  </tbody>\n",
       "</table>\n",
       "</div>"
      ],
      "text/plain": [
       "         Country/Region      Continent  Population  TotalCases  TotalDeaths  \\\n",
       "33   Dominican Republic  North America  10858648.0       76536       1246.0   \n",
       "94              Albania         Europe   2877470.0        6016        188.0   \n",
       "134              Angola         Africa  32956300.0        1483         64.0   \n",
       "181             Brunei            Asia    437893.0         141          3.0   \n",
       "129             Iceland         Europe    341465.0        1930         10.0   \n",
       "\n",
       "     TotalRecovered  ActiveCases  Serious,Critical  Tot Cases/1M pop  \\\n",
       "33          40539.0      34751.0             317.0            7048.0   \n",
       "94           3155.0       2673.0              23.0            2091.0   \n",
       "134           520.0        899.0              20.0              45.0   \n",
       "181           138.0          0.0               0.0             322.0   \n",
       "129          1825.0         95.0               0.0            5652.0   \n",
       "\n",
       "     Deaths/1M pop  TotalTests  Tests/1M pop WHO Region  \n",
       "33           115.0    281926.0       25963.0   Americas  \n",
       "94            65.0     38997.0       13553.0     Europe  \n",
       "134            2.0     64747.0        1965.0     Africa  \n",
       "181            7.0     41148.0       93968.0          0  \n",
       "129           29.0    149693.0      438385.0     Europe  "
      ]
     },
     "execution_count": 3,
     "metadata": {},
     "output_type": "execute_result"
    }
   ],
   "source": [
    "# lastest.csv\n",
    "world_df = pd.read_csv(\"./cleaned_data/latest.csv\")\n",
    "world_df.sample(5)"
   ]
  },
  {
   "cell_type": "markdown",
   "metadata": {},
   "source": [
    "<a id=\"preprocessing\"></a>\n",
    "## **Preprocessing**"
   ]
  },
  {
   "cell_type": "markdown",
   "metadata": {},
   "source": [
    "### **What are total number of Confirmed, Deaths, Recovered and Active cases around the world?** \n",
    "- Answer this question indicating the total number of confirmed, deaths, recovered and active cases around the world.\n",
    "- Answer this question by finding out the total number of confirmed, deaths, recovered and active cases of all countries in `worldometer_data` and plot them using bar chart."
   ]
  },
  {
   "cell_type": "code",
   "execution_count": 4,
   "metadata": {},
   "outputs": [],
   "source": [
    "total_confirmed = world_df['TotalCases'].sum()\n",
    "total_deaths = world_df['TotalDeaths'].sum()\n",
    "total_recovered = world_df['TotalRecovered'].sum()\n",
    "total_active = world_df['ActiveCases'].sum()"
   ]
  },
  {
   "cell_type": "code",
   "execution_count": 5,
   "metadata": {},
   "outputs": [
    {
     "data": {
      "image/png": "[encoded data removed]",
      "text/plain": [
       "<Figure size 800x500 with 1 Axes>"
      ]
     },
     "metadata": {},
     "output_type": "display_data"
    },
    {
     "data": {
      "text/plain": [
       "{'Confirmed': 19169166,\n",
       " 'Deaths': 713007.0,\n",
       " 'Recovered': 12070191.0,\n",
       " 'Active': 5671187.0}"
      ]
     },
     "execution_count": 5,
     "metadata": {},
     "output_type": "execute_result"
    }
   ],
   "source": [
    "totals = {\n",
    "    \"Confirmed\": total_confirmed,\n",
    "    \"Deaths\": total_deaths,\n",
    "    \"Recovered\": total_recovered,\n",
    "    \"Active\": total_active\n",
    "}\n",
    "\n",
    "# Plot the data\n",
    "plt.figure(figsize=(8, 5))\n",
    "plt.bar(totals.keys(), totals.values(), color=['blue', 'red', 'green', 'orange'])\n",
    "plt.title(\"Global COVID-19 Case Summary\")\n",
    "plt.ylabel(\"Number of Cases (in millions)\")\n",
    "plt.xlabel(\"Case Type\")\n",
    "plt.xticks(rotation=45)\n",
    "plt.tight_layout()\n",
    "plt.show()\n",
    "\n",
    "totals"
   ]
  },
  {
   "cell_type": "markdown",
   "metadata": {},
   "source": [
    "### **The correlation between population, death cases, recovered case, active case and critical, serious case. Give insights into the relationship between the number of cases and deaths with the population of the country.** \n",
    "- By answering this question, it helps us to understand the relationship between the population and total death cases, total recovered cases, total actived cases and critial, serious case. This information is useful for the to gain insigns about any feature affect the number of cases in that country.\n",
    "- Answer this question by calculating the correlation matrix between population, cases and deaths. Then, we will plot the correlation matrix using a heatmap."
   ]
  },
  {
   "cell_type": "code",
   "execution_count": 18,
   "metadata": {},
   "outputs": [
    {
     "data": {
      "image/png": "[encoded data removed]",
      "text/plain": [
       "<Figure size 800x600 with 2 Axes>"
      ]
     },
     "metadata": {},
     "output_type": "display_data"
    },
    {
     "data": {
      "text/html": [
       "<div>\n",
       "<style scoped>\n",
       "    .dataframe tbody tr th:only-of-type {\n",
       "        vertical-align: middle;\n",
       "    }\n",
       "\n",
       "    .dataframe tbody tr th {\n",
       "        vertical-align: top;\n",
       "    }\n",
       "\n",
       "    .dataframe thead th {\n",
       "        text-align: right;\n",
       "    }\n",
       "</style>\n",
       "<table border=\"1\" class=\"dataframe\">\n",
       "  <thead>\n",
       "    <tr style=\"text-align: right;\">\n",
       "      <th></th>\n",
       "      <th>Population</th>\n",
       "      <th>TotalDeaths</th>\n",
       "      <th>TotalRecovered</th>\n",
       "      <th>ActiveCases</th>\n",
       "      <th>Serious,Critical</th>\n",
       "    </tr>\n",
       "  </thead>\n",
       "  <tbody>\n",
       "    <tr>\n",
       "      <th>Population</th>\n",
       "      <td>1.000000</td>\n",
       "      <td>0.435269</td>\n",
       "      <td>0.589550</td>\n",
       "      <td>0.458732</td>\n",
       "      <td>0.588562</td>\n",
       "    </tr>\n",
       "    <tr>\n",
       "      <th>TotalDeaths</th>\n",
       "      <td>0.435269</td>\n",
       "      <td>1.000000</td>\n",
       "      <td>0.903282</td>\n",
       "      <td>0.897461</td>\n",
       "      <td>0.909095</td>\n",
       "    </tr>\n",
       "    <tr>\n",
       "      <th>TotalRecovered</th>\n",
       "      <td>0.589550</td>\n",
       "      <td>0.903282</td>\n",
       "      <td>1.000000</td>\n",
       "      <td>0.914581</td>\n",
       "      <td>0.949477</td>\n",
       "    </tr>\n",
       "    <tr>\n",
       "      <th>ActiveCases</th>\n",
       "      <td>0.458732</td>\n",
       "      <td>0.897461</td>\n",
       "      <td>0.914581</td>\n",
       "      <td>1.000000</td>\n",
       "      <td>0.944925</td>\n",
       "    </tr>\n",
       "    <tr>\n",
       "      <th>Serious,Critical</th>\n",
       "      <td>0.588562</td>\n",
       "      <td>0.909095</td>\n",
       "      <td>0.949477</td>\n",
       "      <td>0.944925</td>\n",
       "      <td>1.000000</td>\n",
       "    </tr>\n",
       "  </tbody>\n",
       "</table>\n",
       "</div>"
      ],
      "text/plain": [
       "                  Population  TotalDeaths  TotalRecovered  ActiveCases  \\\n",
       "Population          1.000000     0.435269        0.589550     0.458732   \n",
       "TotalDeaths         0.435269     1.000000        0.903282     0.897461   \n",
       "TotalRecovered      0.589550     0.903282        1.000000     0.914581   \n",
       "ActiveCases         0.458732     0.897461        0.914581     1.000000   \n",
       "Serious,Critical    0.588562     0.909095        0.949477     0.944925   \n",
       "\n",
       "                  Serious,Critical  \n",
       "Population                0.588562  \n",
       "TotalDeaths               0.909095  \n",
       "TotalRecovered            0.949477  \n",
       "ActiveCases               0.944925  \n",
       "Serious,Critical          1.000000  "
      ]
     },
     "execution_count": 18,
     "metadata": {},
     "output_type": "execute_result"
    }
   ],
   "source": [
    "correlation_data = world_df[[\"Population\", \"TotalDeaths\", \"TotalRecovered\", \"ActiveCases\", \"Serious,Critical\"]]\n",
    "correlation_matrix = correlation_data.corr()\n",
    "\n",
    "# Plot the correlation matrix using a heatmap\n",
    "plt.figure(figsize=(8, 6))\n",
    "sns.heatmap(correlation_matrix, annot=True, cmap='coolwarm', fmt=\".2f\")\n",
    "plt.title(\"Correlation Matrix Between Population, Deaths, Recovered, Active, and Serious Cases\")\n",
    "plt.show()\n",
    "\n",
    "correlation_matrix"
   ]
  },
  {
   "cell_type": "markdown",
   "metadata": {},
   "source": [
    "\n",
    "### **What are the top 10 countries with the lowest number of deaths/recovered/actived cases?** \n",
    "- Answer this question provides the top 10 countries with the lowest number of case (death, recoverd, active) and by these results, we can see the countries that have the best control of the pandemic and gain some insights into find the least affected regions.\n",
    "- To answer this question, we will use `worldometer_data` and sort the values in ascending order. Then, we will display the top 10 countries with the lowest number of deaths, recovered, and active cases.\n"
   ]
  },
  {
   "cell_type": "markdown",
   "metadata": {},
   "source": [
    "\n",
    "### **What are the top 10 countries with the highest number of deaths/recovered/actived cases?** \n",
    "- Answer this question provides the top 10 countries with the highest number of cases (death, recoverd, active) and by these results, we can see the countries that have the best control of the pandemic and gain some insights into find the most affected regions.\n",
    "- To answer this question, we will use `worldometer_data` and sort the values in descending order. Then, we will display the top 10 countries with the highest number of deaths, recovered, and active cases.\n"
   ]
  },
  {
   "cell_type": "markdown",
   "metadata": {},
   "source": [
    "<a id=\"analysis\"></a>\n",
    "## **Analysis**\n",
    "<a id=\"q1\"></a>"
   ]
  },
  {
   "cell_type": "markdown",
   "metadata": {},
   "source": [
    "<a id=\"q2\"></a>\n",
    "### **Question 1.** Does the global trend over time for Confirmed/Deaths/Recovered cases evolve over time?\n",
    "- Answer this question indicates the trend of the number of confirmed, deaths, and recovered cases over time: when it peaks, when it decreases, and when it increases in the time series.\n",
    "- To answer this question, we will group `clean_complete_data` by `Date` and sum the values of `Confirmed`, `Deaths`, and `Recovered` columns. Then, we will plot the global trend over time for confirmed, deaths, and recovered cases using line charts."
   ]
  },
  {
   "cell_type": "code",
   "execution_count": 4,
   "metadata": {},
   "outputs": [
    {
     "data": {
      "text/html": [
       "<div>\n",
       "<style scoped>\n",
       "    .dataframe tbody tr th:only-of-type {\n",
       "        vertical-align: middle;\n",
       "    }\n",
       "\n",
       "    .dataframe tbody tr th {\n",
       "        vertical-align: top;\n",
       "    }\n",
       "\n",
       "    .dataframe thead th {\n",
       "        text-align: right;\n",
       "    }\n",
       "</style>\n",
       "<table border=\"1\" class=\"dataframe\">\n",
       "  <thead>\n",
       "    <tr style=\"text-align: right;\">\n",
       "      <th></th>\n",
       "      <th>Date</th>\n",
       "      <th>Confirmed</th>\n",
       "      <th>Deaths</th>\n",
       "      <th>Recovered</th>\n",
       "      <th>Active</th>\n",
       "    </tr>\n",
       "  </thead>\n",
       "  <tbody>\n",
       "    <tr>\n",
       "      <th>177</th>\n",
       "      <td>2020-07-17</td>\n",
       "      <td>14054563</td>\n",
       "      <td>596503</td>\n",
       "      <td>7793760</td>\n",
       "      <td>5664300</td>\n",
       "    </tr>\n",
       "    <tr>\n",
       "      <th>60</th>\n",
       "      <td>2020-03-22</td>\n",
       "      <td>341585</td>\n",
       "      <td>14831</td>\n",
       "      <td>95990</td>\n",
       "      <td>230764</td>\n",
       "    </tr>\n",
       "    <tr>\n",
       "      <th>175</th>\n",
       "      <td>2020-07-15</td>\n",
       "      <td>13559984</td>\n",
       "      <td>583961</td>\n",
       "      <td>7482320</td>\n",
       "      <td>5493703</td>\n",
       "    </tr>\n",
       "    <tr>\n",
       "      <th>125</th>\n",
       "      <td>2020-05-26</td>\n",
       "      <td>5597064</td>\n",
       "      <td>351906</td>\n",
       "      <td>2235118</td>\n",
       "      <td>3010040</td>\n",
       "    </tr>\n",
       "    <tr>\n",
       "      <th>145</th>\n",
       "      <td>2020-06-15</td>\n",
       "      <td>8043794</td>\n",
       "      <td>437549</td>\n",
       "      <td>3793406</td>\n",
       "      <td>3812839</td>\n",
       "    </tr>\n",
       "  </tbody>\n",
       "</table>\n",
       "</div>"
      ],
      "text/plain": [
       "           Date  Confirmed  Deaths  Recovered   Active\n",
       "177  2020-07-17   14054563  596503    7793760  5664300\n",
       "60   2020-03-22     341585   14831      95990   230764\n",
       "175  2020-07-15   13559984  583961    7482320  5493703\n",
       "125  2020-05-26    5597064  351906    2235118  3010040\n",
       "145  2020-06-15    8043794  437549    3793406  3812839"
      ]
     },
     "execution_count": 4,
     "metadata": {},
     "output_type": "execute_result"
    }
   ],
   "source": [
    "# Find total confirmed/deaths/recovered/acive cases per day\n",
    "total_per_day = covid_19_df.groupby('Date')[['Confirmed', 'Deaths', 'Recovered', 'Active']].sum().reset_index()\n",
    "total_per_day.to_csv(r\"cleaned_data/total_per_day.csv\", index=False)\n",
    "total_per_day.sample(5)"
   ]
  },
  {
   "cell_type": "markdown",
   "metadata": {},
   "source": [
    "<a id=\"q6\"></a>\n",
    "### **Question 2.** What is the level of epidemic control in the 10 most populous countries?"
   ]
  },
  {
   "cell_type": "code",
   "execution_count": null,
   "metadata": {},
   "outputs": [],
   "source": []
  },
  {
   "cell_type": "markdown",
   "metadata": {},
   "source": [
    "<a id=\"q6\"></a>\n",
    "### **Question 3.** Status recorded cases of COVID - 19 with the world of countries during the period"
   ]
  }
 ],
 "metadata": {
  "kernelspec": {
   "display_name": "base",
   "language": "python",
   "name": "python3"
  },
  "language_info": {
   "codemirror_mode": {
    "name": "ipython",
    "version": 3
   },
   "file_extension": ".py",
   "mimetype": "text/x-python",
   "name": "python",
   "nbconvert_exporter": "python",
   "pygments_lexer": "ipython3",
   "version": "3.11.7"
  }
 },
 "nbformat": 4,
 "nbformat_minor": 2
}
